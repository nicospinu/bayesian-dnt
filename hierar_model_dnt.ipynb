{
 "metadata": {
  "language_info": {
   "codemirror_mode": {
    "name": "ipython",
    "version": 3
   },
   "file_extension": ".py",
   "mimetype": "text/x-python",
   "name": "python",
   "nbconvert_exporter": "python",
   "pygments_lexer": "ipython3",
   "version": 3
  },
  "orig_nbformat": 2,
  "kernelspec": {
   "name": "python_defaultSpec_1596802684676",
   "display_name": "Python 3.8.5 32-bit"
  }
 },
 "nbformat": 4,
 "nbformat_minor": 2,
 "cells": [
  {
   "cell_type": "code",
   "execution_count": 1,
   "metadata": {
    "tags": []
   },
   "outputs": [
    {
     "output_type": "stream",
     "name": "stderr",
     "text": "WARNING (theano.configdefaults): g++ not available, if using conda: `conda install m2w64-toolchain`\nWARNING (theano.configdefaults): g++ not detected ! Theano will be unable to execute optimized C-implementations (for both CPU and GPU) and will default to Python implementations. Performance will be severely degraded. To remove this warning, set Theano flags cxx to an empty string.\nWARNING (theano.tensor.blas): Using NumPy C-API based implementation for BLAS functions.\nPackages uploaded successfully!\n"
    }
   ],
   "source": [
    "#Import libraries\n",
    "\n",
    "import pandas as pd\n",
    "from pandas import DataFrame\n",
    "import numpy as np\n",
    "from patsy import dmatrices, dmatrix\n",
    "from scipy import stats\n",
    "import daft\n",
    "\n",
    "%matplotlib inline\n",
    "import matplotlib as mpl\n",
    "import matplotlib.pyplot as plt\n",
    "import matplotlib.patches as mpatches\n",
    "import seaborn as sns\n",
    "from sklearn.preprocessing import StandardScaler\n",
    "\n",
    "import theano\n",
    "import pymc3 as pm\n",
    "import arviz as az\n",
    "import theano.tensor as tt\n",
    "import missingno\n",
    "import graphviz\n",
    "from causalgraphicalmodels import CausalGraphicalModel\n",
    "\n",
    "print(\"Packages uploaded successfully!\")"
   ]
  },
  {
   "cell_type": "code",
   "execution_count": 2,
   "metadata": {},
   "outputs": [],
   "source": [
    "#Read dataset\n",
    "data = pd.read_csv('./dnt_machine_readable.csv')"
   ]
  },
  {
   "cell_type": "code",
   "execution_count": 3,
   "metadata": {},
   "outputs": [
    {
     "output_type": "execute_result",
     "data": {
      "text/plain": "   ID           Chemical     CASRN  DNT   SLogP  BBB  Cbrain/Cblood  \\\n0   1     5-Fluorouracil   51-21-8    1 -0.7977  1.0       0.199528   \n1   2         Acrylamide   79-06-1    1 -0.3423  1.0       0.380063   \n2   3           Aldicarb  116-06-3    1  1.4698  1.0       0.609681   \n3   4  Aminonicotinamide  329-89-5    1 -0.2373  1.0       0.212859   \n4   5        Bisphenol A   80-05-7    1  3.4237  1.0       6.030440   \n\n   Pgp_inhibition  Pgp_substrate  Pgp_active  BDNF, Reduction  Activity_Syn  \\\n0             0.0            0.0         0.0              1.0             3   \n1             0.0            0.0         0.0              1.0             1   \n2             0.0            0.0         0.0              NaN             1   \n3             0.0            0.0         0.0              NaN             2   \n4             0.0            0.0         0.0              1.0             3   \n\n   Syn_EC30  Viability_EC30  Activity_NNF  NNF EC50min  NNF EC50max  \\\n0       NaN            91.8             3         0.46         5.03   \n1       NaN             NaN             2         8.26        11.30   \n2       NaN             NaN             2         0.66         9.88   \n3       7.9             6.7             3         3.18         9.85   \n4      33.9            95.0             2         1.01        25.17   \n\n   Viability_LDH  \n0           3.37  \n1            NaN  \n2            NaN  \n3           6.27  \n4            NaN  ",
      "text/html": "<div>\n<style scoped>\n    .dataframe tbody tr th:only-of-type {\n        vertical-align: middle;\n    }\n\n    .dataframe tbody tr th {\n        vertical-align: top;\n    }\n\n    .dataframe thead th {\n        text-align: right;\n    }\n</style>\n<table border=\"1\" class=\"dataframe\">\n  <thead>\n    <tr style=\"text-align: right;\">\n      <th></th>\n      <th>ID</th>\n      <th>Chemical</th>\n      <th>CASRN</th>\n      <th>DNT</th>\n      <th>SLogP</th>\n      <th>BBB</th>\n      <th>Cbrain/Cblood</th>\n      <th>Pgp_inhibition</th>\n      <th>Pgp_substrate</th>\n      <th>Pgp_active</th>\n      <th>BDNF, Reduction</th>\n      <th>Activity_Syn</th>\n      <th>Syn_EC30</th>\n      <th>Viability_EC30</th>\n      <th>Activity_NNF</th>\n      <th>NNF EC50min</th>\n      <th>NNF EC50max</th>\n      <th>Viability_LDH</th>\n    </tr>\n  </thead>\n  <tbody>\n    <tr>\n      <th>0</th>\n      <td>1</td>\n      <td>5-Fluorouracil</td>\n      <td>51-21-8</td>\n      <td>1</td>\n      <td>-0.7977</td>\n      <td>1.0</td>\n      <td>0.199528</td>\n      <td>0.0</td>\n      <td>0.0</td>\n      <td>0.0</td>\n      <td>1.0</td>\n      <td>3</td>\n      <td>NaN</td>\n      <td>91.8</td>\n      <td>3</td>\n      <td>0.46</td>\n      <td>5.03</td>\n      <td>3.37</td>\n    </tr>\n    <tr>\n      <th>1</th>\n      <td>2</td>\n      <td>Acrylamide</td>\n      <td>79-06-1</td>\n      <td>1</td>\n      <td>-0.3423</td>\n      <td>1.0</td>\n      <td>0.380063</td>\n      <td>0.0</td>\n      <td>0.0</td>\n      <td>0.0</td>\n      <td>1.0</td>\n      <td>1</td>\n      <td>NaN</td>\n      <td>NaN</td>\n      <td>2</td>\n      <td>8.26</td>\n      <td>11.30</td>\n      <td>NaN</td>\n    </tr>\n    <tr>\n      <th>2</th>\n      <td>3</td>\n      <td>Aldicarb</td>\n      <td>116-06-3</td>\n      <td>1</td>\n      <td>1.4698</td>\n      <td>1.0</td>\n      <td>0.609681</td>\n      <td>0.0</td>\n      <td>0.0</td>\n      <td>0.0</td>\n      <td>NaN</td>\n      <td>1</td>\n      <td>NaN</td>\n      <td>NaN</td>\n      <td>2</td>\n      <td>0.66</td>\n      <td>9.88</td>\n      <td>NaN</td>\n    </tr>\n    <tr>\n      <th>3</th>\n      <td>4</td>\n      <td>Aminonicotinamide</td>\n      <td>329-89-5</td>\n      <td>1</td>\n      <td>-0.2373</td>\n      <td>1.0</td>\n      <td>0.212859</td>\n      <td>0.0</td>\n      <td>0.0</td>\n      <td>0.0</td>\n      <td>NaN</td>\n      <td>2</td>\n      <td>7.9</td>\n      <td>6.7</td>\n      <td>3</td>\n      <td>3.18</td>\n      <td>9.85</td>\n      <td>6.27</td>\n    </tr>\n    <tr>\n      <th>4</th>\n      <td>5</td>\n      <td>Bisphenol A</td>\n      <td>80-05-7</td>\n      <td>1</td>\n      <td>3.4237</td>\n      <td>1.0</td>\n      <td>6.030440</td>\n      <td>0.0</td>\n      <td>0.0</td>\n      <td>0.0</td>\n      <td>1.0</td>\n      <td>3</td>\n      <td>33.9</td>\n      <td>95.0</td>\n      <td>2</td>\n      <td>1.01</td>\n      <td>25.17</td>\n      <td>NaN</td>\n    </tr>\n  </tbody>\n</table>\n</div>"
     },
     "metadata": {},
     "execution_count": 3
    }
   ],
   "source": [
    "#Add ID column\n",
    "data['ID']= data.index + 1\n",
    "data=data[['ID', 'Chemical', 'CASRN',\t'DNT',\t'SLogP',\t'BBB',\t'Cbrain/Cblood',\t'Pgp_inhibition', 'Pgp_substrate',\t'Pgp_active',\t'BDNF, Reduction',\t'Activity_Syn',\t'Syn_EC30',\t'Viability_EC30',\t'Activity_NNF',\t'NNF EC50min',\t'NNF EC50max',\t'Viability_LDH' ]]\n",
    "data.head(5)"
   ]
  },
  {
   "cell_type": "markdown",
   "metadata": {},
   "source": [
    "### Data standardisation"
   ]
  },
  {
   "cell_type": "code",
   "execution_count": null,
   "metadata": {},
   "outputs": [],
   "source": [
    "# ### Kept this step in case we need it later on\n",
    "\n",
    "#Standardise continuous values\n",
    "data_prep = data[['SLogP', 'Cbrain/Cblood','Syn_EC30', \n",
    "                  'Viability_EC30', 'NNF EC50min', 'NNF EC50max', 'Viability_LDH']]\n",
    "sc = StandardScaler()\n",
    "data_scaled = sc.fit_transform(data_prep)\n",
    "data_scaled = pd.DataFrame(data_scaled)\n",
    "data_scaled.columns = ['SLogP', 'Cbrain/Cblood','Syn_EC30', \n",
    "                       'Viability_EC30', 'NNF EC50min', 'NNF EC50max', 'Viability_LDH']\n",
    "\n",
    "#Add other discrete values and details\n",
    "discrete = data [['ID','Chemical', 'CASRN', 'DNT', 'BBB', 'Pgp_inhibition', 'Pgp_substrate', 'Pgp_active', \n",
    "  'BDNF, Reduction', 'Activity_Syn', 'Activity_NNF']]\n",
    "data = discrete.join(data_scaled, lsuffix=\"_left\", rsuffix=\"_right\")"
   ]
  },
  {
   "cell_type": "markdown",
   "metadata": {},
   "source": [
    "### The Adverse Outcome Pathway Network"
   ]
  },
  {
   "cell_type": "code",
   "execution_count": 4,
   "metadata": {},
   "outputs": [
    {
     "output_type": "display_data",
     "data": {
      "text/plain": "<Figure size 153.071x96.378 with 1 Axes>",
      "image/svg+xml": "<?xml version=\"1.0\" encoding=\"utf-8\" standalone=\"no\"?>\r\n<!DOCTYPE svg PUBLIC \"-//W3C//DTD SVG 1.1//EN\"\r\n  \"http://www.w3.org/Graphics/SVG/1.1/DTD/svg11.dtd\">\r\n<!-- Created with matplotlib (https://matplotlib.org/) -->\r\n<svg height=\"110.777953pt\" version=\"1.1\" viewBox=\"0 0 167.470866 110.777953\" width=\"167.470866pt\" xmlns=\"http://www.w3.org/2000/svg\" xmlns:xlink=\"http://www.w3.org/1999/xlink\">\r\n <metadata>\r\n  <rdf:RDF xmlns:cc=\"http://creativecommons.org/ns#\" xmlns:dc=\"http://purl.org/dc/elements/1.1/\" xmlns:rdf=\"http://www.w3.org/1999/02/22-rdf-syntax-ns#\">\r\n   <cc:Work>\r\n    <dc:type rdf:resource=\"http://purl.org/dc/dcmitype/StillImage\"/>\r\n    <dc:date>2020-08-07T15:19:40.249825</dc:date>\r\n    <dc:format>image/svg+xml</dc:format>\r\n    <dc:creator>\r\n     <cc:Agent>\r\n      <dc:title>Matplotlib v3.3.0, https://matplotlib.org/</dc:title>\r\n     </cc:Agent>\r\n    </dc:creator>\r\n   </cc:Work>\r\n  </rdf:RDF>\r\n </metadata>\r\n <defs>\r\n  <style type=\"text/css\">*{stroke-linecap:butt;stroke-linejoin:round;}</style>\r\n </defs>\r\n <g id=\"figure_1\">\r\n  <g id=\"patch_1\">\r\n   <path d=\"M 0 110.777953 \r\nL 167.470866 110.777953 \r\nL 167.470866 0 \r\nL 0 0 \r\nz\r\n\" style=\"fill:none;\"/>\r\n  </g>\r\n  <g id=\"axes_1\">\r\n   <g id=\"patch_2\">\r\n    <path clip-path=\"url(#p10e7349d3c)\" d=\"M 73.713447 73.713447 \r\nL 69.704653 67.700256 \r\nL 68.702454 68.702454 \r\nL 37.064506 37.064506 \r\nL 37.064506 37.064506 \r\nL 68.702454 68.702454 \r\nL 67.700256 69.704653 \r\nz\r\n\" style=\"stroke:#000000;stroke-linejoin:miter;\"/>\r\n   </g>\r\n   <g id=\"patch_3\">\r\n    <path clip-path=\"url(#p10e7349d3c)\" d=\"M 69.562205 27.04252 \r\nL 62.475591 25.625197 \r\nL 62.475591 27.04252 \r\nL 41.215748 27.04252 \r\nL 41.215748 27.04252 \r\nL 62.475591 27.04252 \r\nL 62.475591 28.459843 \r\nz\r\n\" style=\"stroke:#000000;stroke-linejoin:miter;\"/>\r\n   </g>\r\n   <g id=\"patch_4\">\r\n    <path clip-path=\"url(#p10e7349d3c)\" d=\"M 126.255118 27.04252 \r\nL 119.168504 25.625197 \r\nL 119.168504 27.04252 \r\nL 97.908661 27.04252 \r\nL 97.908661 27.04252 \r\nL 119.168504 27.04252 \r\nL 119.168504 28.459843 \r\nz\r\n\" style=\"stroke:#000000;stroke-linejoin:miter;\"/>\r\n   </g>\r\n   <g id=\"patch_5\">\r\n    <path clip-path=\"url(#p10e7349d3c)\" d=\"M 93.757419 73.713447 \r\nL 99.77061 69.704653 \r\nL 98.768412 68.702454 \r\nL 130.406361 37.064506 \r\nL 130.406361 37.064506 \r\nL 98.768412 68.702454 \r\nL 97.766213 67.700256 \r\nz\r\n\" style=\"stroke:#000000;stroke-linejoin:miter;\"/>\r\n   </g>\r\n   <g id=\"patch_6\">\r\n    <path clip-path=\"url(#p10e7349d3c)\" d=\"M 27.04252 12.869291 \r\nC 30.801304 12.869291 34.406644 14.362672 37.064506 17.020534 \r\nC 39.722367 19.678396 41.215748 23.283736 41.215748 27.04252 \r\nC 41.215748 30.801304 39.722367 34.406644 37.064506 37.064506 \r\nC 34.406644 39.722367 30.801304 41.215748 27.04252 41.215748 \r\nC 23.283736 41.215748 19.678396 39.722367 17.020534 37.064506 \r\nC 14.362672 34.406644 12.869291 30.801304 12.869291 27.04252 \r\nC 12.869291 23.283736 14.362672 19.678396 17.020534 17.020534 \r\nC 19.678396 14.362672 23.283736 12.869291 27.04252 12.869291 \r\nz\r\n\" style=\"fill:none;stroke:#000000;stroke-linejoin:miter;\"/>\r\n   </g>\r\n   <g id=\"patch_7\">\r\n    <path clip-path=\"url(#p10e7349d3c)\" d=\"M 83.735433 69.562205 \r\nC 87.494217 69.562205 91.099557 71.055585 93.757419 73.713447 \r\nC 96.415281 76.371309 97.908661 79.976649 97.908661 83.735433 \r\nC 97.908661 87.494217 96.415281 91.099557 93.757419 93.757419 \r\nC 91.099557 96.415281 87.494217 97.908661 83.735433 97.908661 \r\nC 79.976649 97.908661 76.371309 96.415281 73.713447 93.757419 \r\nC 71.055585 91.099557 69.562205 87.494217 69.562205 83.735433 \r\nC 69.562205 79.976649 71.055585 76.371309 73.713447 73.713447 \r\nC 76.371309 71.055585 79.976649 69.562205 83.735433 69.562205 \r\nz\r\n\" style=\"fill:none;stroke:#000000;stroke-linejoin:miter;\"/>\r\n   </g>\r\n   <g id=\"patch_8\">\r\n    <path clip-path=\"url(#p10e7349d3c)\" d=\"M 83.735433 12.869291 \r\nC 87.494217 12.869291 91.099557 14.362672 93.757419 17.020534 \r\nC 96.415281 19.678396 97.908661 23.283736 97.908661 27.04252 \r\nC 97.908661 30.801304 96.415281 34.406644 93.757419 37.064506 \r\nC 91.099557 39.722367 87.494217 41.215748 83.735433 41.215748 \r\nC 79.976649 41.215748 76.371309 39.722367 73.713447 37.064506 \r\nC 71.055585 34.406644 69.562205 30.801304 69.562205 27.04252 \r\nC 69.562205 23.283736 71.055585 19.678396 73.713447 17.020534 \r\nC 76.371309 14.362672 79.976649 12.869291 83.735433 12.869291 \r\nz\r\n\" style=\"fill:none;stroke:#000000;stroke-linejoin:miter;\"/>\r\n   </g>\r\n   <g id=\"patch_9\">\r\n    <path clip-path=\"url(#p10e7349d3c)\" d=\"M 140.428346 12.869291 \r\nC 144.187131 12.869291 147.792471 14.362672 150.450332 17.020534 \r\nC 153.108194 19.678396 154.601575 23.283736 154.601575 27.04252 \r\nC 154.601575 30.801304 153.108194 34.406644 150.450332 37.064506 \r\nC 147.792471 39.722367 144.187131 41.215748 140.428346 41.215748 \r\nC 136.669562 41.215748 133.064222 39.722367 130.406361 37.064506 \r\nC 127.748499 34.406644 126.255118 30.801304 126.255118 27.04252 \r\nC 126.255118 23.283736 127.748499 19.678396 130.406361 17.020534 \r\nC 133.064222 14.362672 136.669562 12.869291 140.428346 12.869291 \r\nz\r\n\" style=\"fill:none;stroke:#000000;stroke-linejoin:miter;\"/>\r\n   </g>\r\n   <g id=\"matplotlib.axis_1\"/>\r\n   <g id=\"matplotlib.axis_2\"/>\r\n   <g id=\"text_1\">\r\n    <!-- BDNF -->\r\n    <g transform=\"translate(13.145645 29.801895)scale(0.1 -0.1)\">\r\n     <defs>\r\n      <path d=\"M 19.671875 34.8125 \r\nL 19.671875 8.109375 \r\nL 35.5 8.109375 \r\nQ 43.453125 8.109375 47.28125 11.40625 \r\nQ 51.125 14.703125 51.125 21.484375 \r\nQ 51.125 28.328125 47.28125 31.5625 \r\nQ 43.453125 34.8125 35.5 34.8125 \r\nz\r\nM 19.671875 64.796875 \r\nL 19.671875 42.828125 \r\nL 34.28125 42.828125 \r\nQ 41.5 42.828125 45.03125 45.53125 \r\nQ 48.578125 48.25 48.578125 53.8125 \r\nQ 48.578125 59.328125 45.03125 62.0625 \r\nQ 41.5 64.796875 34.28125 64.796875 \r\nz\r\nM 9.8125 72.90625 \r\nL 35.015625 72.90625 \r\nQ 46.296875 72.90625 52.390625 68.21875 \r\nQ 58.5 63.53125 58.5 54.890625 \r\nQ 58.5 48.1875 55.375 44.234375 \r\nQ 52.25 40.28125 46.1875 39.3125 \r\nQ 53.46875 37.75 57.5 32.78125 \r\nQ 61.53125 27.828125 61.53125 20.40625 \r\nQ 61.53125 10.640625 54.890625 5.3125 \r\nQ 48.25 0 35.984375 0 \r\nL 9.8125 0 \r\nz\r\n\" id=\"DejaVuSans-66\"/>\r\n      <path d=\"M 19.671875 64.796875 \r\nL 19.671875 8.109375 \r\nL 31.59375 8.109375 \r\nQ 46.6875 8.109375 53.6875 14.9375 \r\nQ 60.6875 21.78125 60.6875 36.53125 \r\nQ 60.6875 51.171875 53.6875 57.984375 \r\nQ 46.6875 64.796875 31.59375 64.796875 \r\nz\r\nM 9.8125 72.90625 \r\nL 30.078125 72.90625 \r\nQ 51.265625 72.90625 61.171875 64.09375 \r\nQ 71.09375 55.28125 71.09375 36.53125 \r\nQ 71.09375 17.671875 61.125 8.828125 \r\nQ 51.171875 0 30.078125 0 \r\nL 9.8125 0 \r\nz\r\n\" id=\"DejaVuSans-68\"/>\r\n      <path d=\"M 9.8125 72.90625 \r\nL 23.09375 72.90625 \r\nL 55.421875 11.921875 \r\nL 55.421875 72.90625 \r\nL 64.984375 72.90625 \r\nL 64.984375 0 \r\nL 51.703125 0 \r\nL 19.390625 60.984375 \r\nL 19.390625 0 \r\nL 9.8125 0 \r\nz\r\n\" id=\"DejaVuSans-78\"/>\r\n      <path d=\"M 9.8125 72.90625 \r\nL 51.703125 72.90625 \r\nL 51.703125 64.59375 \r\nL 19.671875 64.59375 \r\nL 19.671875 43.109375 \r\nL 48.578125 43.109375 \r\nL 48.578125 34.8125 \r\nL 19.671875 34.8125 \r\nL 19.671875 0 \r\nL 9.8125 0 \r\nz\r\n\" id=\"DejaVuSans-70\"/>\r\n     </defs>\r\n     <use xlink:href=\"#DejaVuSans-66\"/>\r\n     <use x=\"68.603516\" xlink:href=\"#DejaVuSans-68\"/>\r\n     <use x=\"145.605469\" xlink:href=\"#DejaVuSans-78\"/>\r\n     <use x=\"220.410156\" xlink:href=\"#DejaVuSans-70\"/>\r\n    </g>\r\n   </g>\r\n   <g id=\"text_2\">\r\n    <!-- DNT -->\r\n    <g transform=\"translate(73.090902 86.494808)scale(0.1 -0.1)\">\r\n     <defs>\r\n      <path d=\"M -0.296875 72.90625 \r\nL 61.375 72.90625 \r\nL 61.375 64.59375 \r\nL 35.5 64.59375 \r\nL 35.5 0 \r\nL 25.59375 0 \r\nL 25.59375 64.59375 \r\nL -0.296875 64.59375 \r\nz\r\n\" id=\"DejaVuSans-84\"/>\r\n     </defs>\r\n     <use xlink:href=\"#DejaVuSans-68\"/>\r\n     <use x=\"77.001953\" xlink:href=\"#DejaVuSans-78\"/>\r\n     <use x=\"151.806641\" xlink:href=\"#DejaVuSans-84\"/>\r\n    </g>\r\n   </g>\r\n   <g id=\"text_3\">\r\n    <!-- SYN -->\r\n    <g transform=\"translate(73.766683 29.801895)scale(0.1 -0.1)\">\r\n     <defs>\r\n      <path d=\"M 53.515625 70.515625 \r\nL 53.515625 60.890625 \r\nQ 47.90625 63.578125 42.921875 64.890625 \r\nQ 37.9375 66.21875 33.296875 66.21875 \r\nQ 25.25 66.21875 20.875 63.09375 \r\nQ 16.5 59.96875 16.5 54.203125 \r\nQ 16.5 49.359375 19.40625 46.890625 \r\nQ 22.3125 44.4375 30.421875 42.921875 \r\nL 36.375 41.703125 \r\nQ 47.40625 39.59375 52.65625 34.296875 \r\nQ 57.90625 29 57.90625 20.125 \r\nQ 57.90625 9.515625 50.796875 4.046875 \r\nQ 43.703125 -1.421875 29.984375 -1.421875 \r\nQ 24.8125 -1.421875 18.96875 -0.25 \r\nQ 13.140625 0.921875 6.890625 3.21875 \r\nL 6.890625 13.375 \r\nQ 12.890625 10.015625 18.65625 8.296875 \r\nQ 24.421875 6.59375 29.984375 6.59375 \r\nQ 38.421875 6.59375 43.015625 9.90625 \r\nQ 47.609375 13.234375 47.609375 19.390625 \r\nQ 47.609375 24.75 44.3125 27.78125 \r\nQ 41.015625 30.8125 33.5 32.328125 \r\nL 27.484375 33.5 \r\nQ 16.453125 35.6875 11.515625 40.375 \r\nQ 6.59375 45.0625 6.59375 53.421875 \r\nQ 6.59375 63.09375 13.40625 68.65625 \r\nQ 20.21875 74.21875 32.171875 74.21875 \r\nQ 37.3125 74.21875 42.625 73.28125 \r\nQ 47.953125 72.359375 53.515625 70.515625 \r\nz\r\n\" id=\"DejaVuSans-83\"/>\r\n      <path d=\"M -0.203125 72.90625 \r\nL 10.40625 72.90625 \r\nL 30.609375 42.921875 \r\nL 50.6875 72.90625 \r\nL 61.28125 72.90625 \r\nL 35.5 34.71875 \r\nL 35.5 0 \r\nL 25.59375 0 \r\nL 25.59375 34.71875 \r\nz\r\n\" id=\"DejaVuSans-89\"/>\r\n     </defs>\r\n     <use xlink:href=\"#DejaVuSans-83\"/>\r\n     <use x=\"63.476562\" xlink:href=\"#DejaVuSans-89\"/>\r\n     <use x=\"124.560547\" xlink:href=\"#DejaVuSans-78\"/>\r\n    </g>\r\n   </g>\r\n   <g id=\"text_4\">\r\n    <!-- NNF -->\r\n    <g transform=\"translate(130.071315 29.801895)scale(0.1 -0.1)\">\r\n     <use xlink:href=\"#DejaVuSans-78\"/>\r\n     <use x=\"74.804688\" xlink:href=\"#DejaVuSans-78\"/>\r\n     <use x=\"149.609375\" xlink:href=\"#DejaVuSans-70\"/>\r\n    </g>\r\n   </g>\r\n  </g>\r\n </g>\r\n <defs>\r\n  <clipPath id=\"p10e7349d3c\">\r\n   <rect height=\"96.377953\" width=\"153.070866\" x=\"7.2\" y=\"7.2\"/>\r\n  </clipPath>\r\n </defs>\r\n</svg>\r\n",
      "image/png": "[encoded data removed]"
     },
     "metadata": {}
    }
   ],
   "source": [
    "#Causal relationships between the key events\n",
    "dag_dnt = CausalGraphicalModel(\n",
    "    nodes=[\"BDNF\", \"DNT\", \"SYN\", \"NNF\"], edges=[(\"BDNF\", \"DNT\"), (\"BDNF\", \"SYN\"), (\"NNF\", \"DNT\"), (\"SYN\", \"NNF\")]\n",
    ")\n",
    "pgm = daft.PGM()\n",
    "coordinates = {\"BDNF\": (0, 0), \"DNT\": (1, 1), \"SYN\": (1, 0), \"NNF\": (2, 0)}\n",
    "for node in dag_dnt.dag.nodes:\n",
    "    pgm.add_node(node, node, *coordinates[node])\n",
    "for edge in dag_dnt.dag.edges:\n",
    "    pgm.add_edge(*edge)\n",
    "pgm.render()\n",
    "plt.gca().invert_yaxis()"
   ]
  },
  {
   "cell_type": "code",
   "execution_count": 5,
   "metadata": {
    "tags": []
   },
   "outputs": [
    {
     "output_type": "stream",
     "name": "stdout",
     "text": "P(BDNF)P(SYN|BDNF)P(NNF|SYN)P(DNT|BDNF,NNF)\n"
    }
   ],
   "source": [
    "print(dag_dnt.get_distribution())"
   ]
  },
  {
   "cell_type": "markdown",
   "metadata": {},
   "source": [
    "### Entire multilevel model"
   ]
  },
  {
   "cell_type": "markdown",
   "metadata": {},
   "source": [
    "$$\n",
    "\\mu \\sim Normal (0, 1) \\\\\n",
    "\\sigma \\sim Normal (0, 1) \\\\\n",
    "\\alpha \\sim Normal(0, 1) \\\\\n",
    "\\beta \\sim Normal (0, 1) \\\\\n",
    "$$\n",
    "$$\n",
    "BDNF \\sim Bernoulli (p_i)\\\\\n",
    "logit(p_i) = \\alpha + \\beta X_i \\\\ \n",
    "X: {SlogP, BBB, Cbrain/Cblood, Pgp}\n",
    "$$\n",
    "\n",
    "\n",
    "$$\n",
    "SYN \\sim OrderedLogistic (n_i, c_1, c_2, c_3, c_4)\\\\\n",
    "logit(n_i) = \\alpha + \\beta X_i\\\\ \n",
    "\\ c_1, c_2, c_3, c_4 \\sim Normal(0, 1) \\\\\n",
    "X: {EC30, Viability}\n",
    "$$\n",
    "\n",
    "\n",
    "$$\n",
    "NNF \\sim OrderedLogistic (n_i, c_1, c_2, c_3, c_4, c_5)\\\\\n",
    "logit(n_i) = \\alpha + \\beta X_i\\\\\n",
    "\\ c_1, c_2, c_3, c_4, c_5 \\sim Normal(0, 1) \\\\ \n",
    "X: {EC50min, EC50max, Viability}\n",
    "$$"
   ]
  },
  {
   "cell_type": "code",
   "execution_count": null,
   "metadata": {},
   "outputs": [],
   "source": [
    "# ### Define predictors and outcomes\n",
    "#List of studied compounds\n",
    "df_compounds = data[['ID','Chemical', 'CASRN']]\n",
    "\n",
    "#For hierarchical if we need IDs of compounds\n",
    "compounds = data.ID.unique()\n",
    "n_compounds = compounds.shape[0]\n",
    "\n",
    "#BDNF given by continuous and discrete variables\n",
    "x_bdnf1 = pd.DataFrame(data[['SLogP', 'Cbrain/Cblood']]).values\n",
    "x_bdnf2 = pd.DataFrame(data[['BBB', 'Pgp_inhibition', 'Pgp_substrate', 'Pgp_active']]).values\n",
    "y_bdnf = pd.DataFrame(data[['BDNF, Reduction']]).values\n",
    "\n",
    "#Syn\n",
    "x_syn = pd.DataFrame(data[['Syn_EC30', 'Viability_EC30']]).values\n",
    "y_syn = pd.DataFrame(data[['Activity_Syn']]).values\n",
    "\n",
    "#NNF\n",
    "x_nnf = pd.DataFrame(data[['NNF EC50min', 'NNF EC50max', 'Viability_LDH']]).values\n",
    "y_nnf = pd.DataFrame(data[['Activity_NNF']]).values\n",
    "\n",
    "#x_dnt is given by causal relations BDNF->SYN->NNF->DNT<-BNDF\n",
    "y_dnt = pd.DataFrame(data[['DNT']]).values\n"
   ]
  },
  {
   "cell_type": "code",
   "execution_count": null,
   "metadata": {},
   "outputs": [],
   "source": [
    "# ### Mask missing values\n",
    "\n",
    "#BDNF\n",
    "x_bdnf_missing1 = np.isnan(x_bdnf1)\n",
    "x_bdnf_missing2 = np.isnan(x_bdnf2)\n",
    "X_bdnf_train1 = np.ma.masked_array(x_bdnf1, mask=x_bdnf_missing1)\n",
    "X_bdnf_train2 = np.ma.masked_array(x_bdnf2, mask=x_bdnf_missing2)\n",
    "y_bdnf_missing = np.isnan(y_bdnf)\n",
    "Y_bdnf_train = np.ma.masked_array(y_bdnf, mask=y_bdnf_missing)\n",
    "\n",
    "#Syn\n",
    "x_syn_missing = np.isnan(x_syn)\n",
    "X_syn_train = np.ma.masked_array(x_syn, mask=x_syn_missing)\n",
    "y_syn_missing = np.isnan(y_syn)\n",
    "Y_syn_train = np.ma.masked_array(y_syn, mask=y_syn_missing)\n",
    "\n",
    "#NNF\n",
    "x_nnf_missing = np.isnan(x_nnf)\n",
    "X_nnf_train = np.ma.masked_array(x_nnf, mask=x_nnf_missing)\n",
    "y_nnf_missing = np.isnan(y_nnf)\n",
    "Y_nnf_train = np.ma.masked_array(y_nnf, mask=y_nnf_missing)\n",
    "\n",
    "#DNT\n",
    "y_dnt_missing = np.isnan(y_dnt)\n",
    "Y_dnt_train = np.ma.masked_array(y_dnt, mask=y_dnt_missing)"
   ]
  },
  {
   "cell_type": "code",
   "execution_count": null,
   "metadata": {},
   "outputs": [],
   "source": [
    "# ### Define and fit the model\n",
    "# ## Define hyperpriors\n",
    "with pm.Model() as hierar_model:\n",
    "    #Define hyperpriors\n",
    "    mu_alpha = pm.Normal('mu_alpha', mu=0, sd=1)\n",
    "    sigma_alpha = pm.HalfCauchy('sigma_alpha', 5)\n",
    "    mu_beta = pm.Normal('mu_beta', mu=0, sd=1)\n",
    "    sigma_beta = pm.HalfCauchy('sigma_beta', 5) "
   ]
  },
  {
   "cell_type": "code",
   "execution_count": null,
   "metadata": {},
   "outputs": [],
   "source": [
    "# ## Define bndf \n",
    "with hierar_model:\n",
    "    # Define priors for linear regression\n",
    "    alpha_bdnf = pm.Normal('alpha_bdnf', mu=mu_alpha, sd=sigma_alpha, shape = n_compounds)\n",
    "    beta_bdnf1 = pm.Normal('beta_bdnf1', mu=mu_beta, sd=sigma_beta, shape=(2, 1))\n",
    "    beta_bdnf2 = pm.Binomial('beta_bdnf2', p=1, n=1, shape=(4,1))\n",
    "\n",
    "    # Imputation of X missing values for BDNF\n",
    "    Xmu_bdnf1 = pm.Normal('Xmu_bdnf1', 0, 1, shape=2)\n",
    "    Xsigma_bdnf1 = pm.HalfNormal('Xsigma_bdnf1', 5, shape=2) #change shape for each X_\n",
    "    X_bdnf_modeled1 = pm.Normal('X_bdnf_modeled1', mu=Xmu_bdnf1, sd=Xsigma_bdnf1, observed=X_bdnf_train1)\n",
    "\n",
    "    Xmu_bdnf2 = pm.Binomial('Xmu_bdnf2', p=1, n=1, shape=4)\n",
    "    Xsigma_bdnf2 = pm.Binomial('Xsigma_bdnf2', p=1, n=1, shape=4) #change shape for each X_\n",
    "    X_bdnf_modeled2 = pm.Normal('X_bdnf_modeled2', mu=Xmu_bdnf2, sd=Xsigma_bdnf2, observed=X_bdnf_train2)\n",
    "\n",
    "    # Likelihood for BDNF\n",
    "    #SLogP, Cbrain/Cblood, BBB, Pgp->BDNF\n",
    "    lp_bdnf = pm.Deterministic('lp_bdnf', alpha_bdnf[compounds] + pm.math.dot(X_bdnf_modeled1, beta_bdnf1[compounds]) \n",
    "    + pm.math.dot(X_bdnf_modeled2, beta_bdnf2)) #varying intercept per compound\n",
    "    p_bdnf = pm.math.invlogit(lp_bdnf)\n",
    "    y_obs_bdnf = pm.Bernoulli('y_obs_bdnf', p=p_bdnf, n=1, observed=Y_bdnf_train)"
   ]
  },
  {
   "cell_type": "code",
   "execution_count": null,
   "metadata": {},
   "outputs": [],
   "source": [
    "# ## Define syn\n",
    "with hierar_model:\n",
    "    # Define priors\n",
    "    alpha_syn = pm.Normal('alpha_syn', mu=mu_alpha, sd=sigma_alpha)\n",
    "    beta_syn = pm.Normal('beta_syn', mu=mu_beta, sd=sigma_beta, shape=(2, 1))\n",
    "\n",
    "    # Imputation of X missing values for Syn\n",
    "    Xmu_syn = pm.Normal('Xmu_syn', 0, 1, shape=2)\n",
    "    Xsigma_syn = pm.HalfNormal('Xsigma_syn', 5, shape=2) #change shape for each X_\n",
    "    X_syn_modeled = pm.Normal('X_syn_modeled', mu=Xmu_syn, sd=Xsigma_syn, observed=X_syn_train)\n",
    "\n",
    "    #Cutpoints for ordered logistic\n",
    "    cutpoints_syn = pm.Normal(\"cutpoints_syn\", mu=[-0.001,0], sigma=10, shape=2,\n",
    "                           transform=pm.distributions.transforms.ordered)\n",
    "    \n",
    "    # Likelihood for Syn\n",
    "    #BDNF->SYN\n",
    "    lp_syn = pm.Deterministic('lp_syn', alpha_syn[compounds] + pm.math.dot(X_syn_modeled, beta_syn[compounds]), shape=97)\n",
    "    p_syn = pm.math.invlogit(lp_syn)\n",
    "\n",
    "    y_obs_syn = pm.OrderedLogistic(\"y_obs_syn\", eta=p_syn, cutpoints=cutpoints_syn, observed=Y_syn_train)\n",
    "    "
   ]
  },
  {
   "cell_type": "code",
   "execution_count": null,
   "metadata": {},
   "outputs": [],
   "source": [
    "# ## Define nnf\n",
    "with hierar_model:\n",
    "    # Define priors\n",
    "    alpha_nnf = pm.Normal('alpha_nnf', mu=mu_alpha, sd=sigma_alpha)\n",
    "    beta_nnf = pm.Normal('beta_nnf', mu=mu_beta, sd=sigma_beta, shape=(3, 1))\n",
    "\n",
    "    # Imputation of X missing values for NNF\n",
    "    Xmu_nnf = pm.Normal('Xmu_nnf', 0, 1, shape=3)\n",
    "    Xsigma_nnf = pm.HalfNormal('Xsigma_nnf', 5, shape=3) #change shape for each X_\n",
    "    X_nnf_modeled = pm.Normal('X_nnf_modeled', mu=Xmu_nnf, sd=Xsigma_nnf, observed=X_nnf_train)\n",
    "\n",
    "    #Cutpoints for ordered logistic\n",
    "    cutpoints_nnf = pm.Normal(\"cutpoints_nnf\", mu=[-0.001,1], sigma=10, shape=2,\n",
    "                           transform=pm.distributions.transforms.ordered)\n",
    "    \n",
    "    # Likelihood for NNF\n",
    "    #BDNF->SYN->NNF\n",
    "    lp_nnf = pm.Deterministic('lp_nnf', alpha_nnf[compounds] + pm.math.dot(X_nnf_modeled, beta_nnf[compounds]), shape=97)\n",
    "    p_nnf = pm.math.invlogit(lp_syn)\n",
    "\n",
    "    y_obs_nnf = pm.OrderedLogistic(\"y_obs_nnf\", eta=p_nnf, cutpoints=cutpoints_nnf, observed=Y_nnf_train)\n"
   ]
  },
  {
   "cell_type": "code",
   "execution_count": null,
   "metadata": {},
   "outputs": [],
   "source": [
    "# ## Define shared dmatrix\n",
    "y_bdnf_shared = shared(data[['BDNF, Reduction']]).values)\n",
    "y_syn_shared = shared(data[['Activity_Syn']]).values)\n",
    "y_nnf_shared = shared(data[['Activity_NNF']]).values)\n",
    "\n",
    "with hierar_model:\n",
    "    # Define priors\n",
    "    alpha_dnt = pm.Normal('alpha_dnt', mu=mu_alpha, sd=sigma_alpha)\n",
    "    beta_dnt = pm.Binomial('beta_dnt', mu=0, sd=1, shape=(2, 1))\n",
    "    \n",
    "    # Likelihood for DNT\n",
    "    #BDNF->SYN->NNF->DNT<-BNDF\n",
    "    lp_dnt = pm.Deterministic('lp', alpha_dnt[compounds] + beta_dnt[compounds]*y_bdnf_shared + beta_dnt[compounds]*y_syn_shared + beta_dnt[compounds]*y_nnf_shared\n",
    "    p_dnt = pm.math.invlogit(lp_bdnf)\n",
    "    y_obs_dnt = pm.Bernoulli('y_dnt', p=p_dnt, n=1, observed=Y_bdnf_train)\n",
    "\n",
    "\n"
   ]
  },
  {
   "cell_type": "code",
   "execution_count": null,
   "metadata": {},
   "outputs": [],
   "source": [
    "#Checking the model\n",
    "hierar_model.check_test_point()"
   ]
  },
  {
   "cell_type": "code",
   "execution_count": null,
   "metadata": {},
   "outputs": [],
   "source": [
    "#Graphical representation\n",
    "pm.model_to_graphviz(hierar_model)"
   ]
  },
  {
   "cell_type": "code",
   "execution_count": null,
   "metadata": {},
   "outputs": [],
   "source": [
    "with hierar_model:\n",
    "    trace = pm.sample(cores=4, return_inferencedata=True)"
   ]
  },
  {
   "cell_type": "code",
   "execution_count": null,
   "metadata": {},
   "outputs": [],
   "source": [
    "#Statistical summary\n",
    "az.summary(trace)\n"
   ]
  },
  {
   "cell_type": "code",
   "execution_count": null,
   "metadata": {},
   "outputs": [],
   "source": [
    "#Plots of inferences\n",
    "az.plot_trace(trace)\n"
   ]
  },
  {
   "cell_type": "code",
   "execution_count": null,
   "metadata": {},
   "outputs": [],
   "source": [
    "#Posteriors with\n",
    "#az.plot_posterior(data, var_names=['mu', 'sigma'], point_estimate='mode')"
   ]
  },
  {
   "cell_type": "code",
   "execution_count": null,
   "metadata": {},
   "outputs": [],
   "source": [
    "#Forest plots\n",
    "az.plot_forest(trace)"
   ]
  },
  {
   "cell_type": "code",
   "execution_count": null,
   "metadata": {},
   "outputs": [],
   "source": [
    "#https://seaborn.pydata.org/examples/pairgrid_dotplot.html"
   ]
  }
 ]
}