{
 "cells": [
  {
   "cell_type": "code",
   "execution_count": 1,
   "metadata": {},
   "outputs": [
    {
     "name": "stdout",
     "output_type": "stream",
     "text": [
      "Packages uploaded successfully!\n"
     ]
    }
   ],
   "source": [
    "#Import libraries\n",
    "import pandas as pd\n",
    "import numpy as np\n",
    "import seaborn as sns\n",
    "import matplotlib.pyplot as plt\n",
    "from sklearn.preprocessing import StandardScaler\n",
    "from sklearn.preprocessing import MinMaxScaler\n",
    "print(\"Packages uploaded successfully!\")"
   ]
  },
  {
   "cell_type": "code",
   "execution_count": 2,
   "metadata": {},
   "outputs": [
    {
     "data": {
      "text/html": [
       "<div>\n",
       "<style scoped>\n",
       "    .dataframe tbody tr th:only-of-type {\n",
       "        vertical-align: middle;\n",
       "    }\n",
       "\n",
       "    .dataframe tbody tr th {\n",
       "        vertical-align: top;\n",
       "    }\n",
       "\n",
       "    .dataframe thead th {\n",
       "        text-align: right;\n",
       "    }\n",
       "</style>\n",
       "<table border=\"1\" class=\"dataframe\">\n",
       "  <thead>\n",
       "    <tr style=\"text-align: right;\">\n",
       "      <th></th>\n",
       "      <th>Chemical</th>\n",
       "      <th>CASRN</th>\n",
       "      <th>KE</th>\n",
       "      <th>mean</th>\n",
       "      <th>sd</th>\n",
       "      <th>hdi_3%</th>\n",
       "      <th>hdi_97%</th>\n",
       "      <th>mcse_mean</th>\n",
       "      <th>mcse_sd</th>\n",
       "      <th>ess_mean</th>\n",
       "      <th>ess_sd</th>\n",
       "      <th>ess_bulk</th>\n",
       "      <th>ess_tail</th>\n",
       "      <th>r_hat</th>\n",
       "      <th>True_value</th>\n",
       "    </tr>\n",
       "  </thead>\n",
       "  <tbody>\n",
       "    <tr>\n",
       "      <th>0</th>\n",
       "      <td>5-Fluorouracil</td>\n",
       "      <td>51-21-8</td>\n",
       "      <td>lp_bdnf</td>\n",
       "      <td>0.555</td>\n",
       "      <td>0.157</td>\n",
       "      <td>0.249</td>\n",
       "      <td>0.833</td>\n",
       "      <td>0.004</td>\n",
       "      <td>0.003</td>\n",
       "      <td>1552.0</td>\n",
       "      <td>1457.0</td>\n",
       "      <td>1609.0</td>\n",
       "      <td>1943.0</td>\n",
       "      <td>1.0</td>\n",
       "      <td>1.0</td>\n",
       "    </tr>\n",
       "    <tr>\n",
       "      <th>1</th>\n",
       "      <td>Acrylamide</td>\n",
       "      <td>79-06-1</td>\n",
       "      <td>lp_bdnf</td>\n",
       "      <td>0.575</td>\n",
       "      <td>0.154</td>\n",
       "      <td>0.276</td>\n",
       "      <td>0.849</td>\n",
       "      <td>0.004</td>\n",
       "      <td>0.003</td>\n",
       "      <td>1435.0</td>\n",
       "      <td>1362.0</td>\n",
       "      <td>1487.0</td>\n",
       "      <td>1865.0</td>\n",
       "      <td>1.0</td>\n",
       "      <td>1.0</td>\n",
       "    </tr>\n",
       "    <tr>\n",
       "      <th>2</th>\n",
       "      <td>Aldicarb</td>\n",
       "      <td>116-06-3</td>\n",
       "      <td>lp_bdnf</td>\n",
       "      <td>0.639</td>\n",
       "      <td>0.152</td>\n",
       "      <td>0.354</td>\n",
       "      <td>0.925</td>\n",
       "      <td>0.004</td>\n",
       "      <td>0.003</td>\n",
       "      <td>1185.0</td>\n",
       "      <td>1160.0</td>\n",
       "      <td>1213.0</td>\n",
       "      <td>1653.0</td>\n",
       "      <td>1.0</td>\n",
       "      <td>NaN</td>\n",
       "    </tr>\n",
       "    <tr>\n",
       "      <th>3</th>\n",
       "      <td>Aminonicotinamide</td>\n",
       "      <td>329-89-5</td>\n",
       "      <td>lp_bdnf</td>\n",
       "      <td>0.572</td>\n",
       "      <td>0.153</td>\n",
       "      <td>0.281</td>\n",
       "      <td>0.850</td>\n",
       "      <td>0.004</td>\n",
       "      <td>0.003</td>\n",
       "      <td>1435.0</td>\n",
       "      <td>1362.0</td>\n",
       "      <td>1484.0</td>\n",
       "      <td>1874.0</td>\n",
       "      <td>1.0</td>\n",
       "      <td>NaN</td>\n",
       "    </tr>\n",
       "    <tr>\n",
       "      <th>4</th>\n",
       "      <td>Bisphenol A</td>\n",
       "      <td>80-05-7</td>\n",
       "      <td>lp_bdnf</td>\n",
       "      <td>0.897</td>\n",
       "      <td>0.207</td>\n",
       "      <td>0.524</td>\n",
       "      <td>1.294</td>\n",
       "      <td>0.006</td>\n",
       "      <td>0.004</td>\n",
       "      <td>1215.0</td>\n",
       "      <td>1183.0</td>\n",
       "      <td>1251.0</td>\n",
       "      <td>1599.0</td>\n",
       "      <td>1.0</td>\n",
       "      <td>1.0</td>\n",
       "    </tr>\n",
       "  </tbody>\n",
       "</table>\n",
       "</div>"
      ],
      "text/plain": [
       "            Chemical     CASRN       KE   mean     sd  hdi_3%  hdi_97%  \\\n",
       "0     5-Fluorouracil   51-21-8  lp_bdnf  0.555  0.157   0.249    0.833   \n",
       "1         Acrylamide   79-06-1  lp_bdnf  0.575  0.154   0.276    0.849   \n",
       "2           Aldicarb  116-06-3  lp_bdnf  0.639  0.152   0.354    0.925   \n",
       "3  Aminonicotinamide  329-89-5  lp_bdnf  0.572  0.153   0.281    0.850   \n",
       "4        Bisphenol A   80-05-7  lp_bdnf  0.897  0.207   0.524    1.294   \n",
       "\n",
       "   mcse_mean  mcse_sd  ess_mean  ess_sd  ess_bulk  ess_tail  r_hat  True_value  \n",
       "0      0.004    0.003    1552.0  1457.0    1609.0    1943.0    1.0         1.0  \n",
       "1      0.004    0.003    1435.0  1362.0    1487.0    1865.0    1.0         1.0  \n",
       "2      0.004    0.003    1185.0  1160.0    1213.0    1653.0    1.0         NaN  \n",
       "3      0.004    0.003    1435.0  1362.0    1484.0    1874.0    1.0         NaN  \n",
       "4      0.006    0.004    1215.0  1183.0    1251.0    1599.0    1.0         1.0  "
      ]
     },
     "execution_count": 2,
     "metadata": {},
     "output_type": "execute_result"
    }
   ],
   "source": [
    "#Read dataset\n",
    "data = pd.read_csv('./results.csv', sep=';')\n",
    "data.head()"
   ]
  },
  {
   "cell_type": "code",
   "execution_count": 3,
   "metadata": {},
   "outputs": [],
   "source": [
    "scaler = MinMaxScaler()"
   ]
  },
  {
   "cell_type": "markdown",
   "metadata": {},
   "source": [
    "### BDNF"
   ]
  },
  {
   "cell_type": "code",
   "execution_count": 9,
   "metadata": {},
   "outputs": [],
   "source": [
    "lp_bdnf = data.loc[data['KE'] == 'lp_bdnf']\n",
    "bdnf = lp_bdnf[['Chemical', 'CASRN', 'mean', 'sd', 'True_value']]\n",
    "bdnf = bdnf.set_index(['Chemical', 'CASRN'])\n",
    "bdnf_mean = bdnf[['mean']].values\n",
    "bdnf_mean_order = bdnf['mean'].sort_values().index\n",
    "bdnf_sd = bdnf['sd'].sort_values().index"
   ]
  },
  {
   "cell_type": "code",
   "execution_count": null,
   "metadata": {},
   "outputs": [],
   "source": []
  }
 ],
 "metadata": {
  "kernelspec": {
   "display_name": "pymc3",
   "language": "python",
   "name": "pymc3"
  },
  "language_info": {
   "codemirror_mode": {
    "name": "ipython",
    "version": 3
   },
   "file_extension": ".py",
   "mimetype": "text/x-python",
   "name": "python",
   "nbconvert_exporter": "python",
   "pygments_lexer": "ipython3",
   "version": "3.8.5"
  }
 },
 "nbformat": 4,
 "nbformat_minor": 4
}
