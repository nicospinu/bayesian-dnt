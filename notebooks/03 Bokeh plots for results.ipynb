{
 "cells": [
  {
   "cell_type": "markdown",
   "metadata": {},
   "source": [
    "<a id='Content'></a> \n",
    "### <b> Content </b>\n",
    "1. [Initial setup](#Initial-setup)\n",
    "2. [Bokeh plot for BDNF](#Bokeh-plot-for-BDNF)\n",
    "3. [Bokeh plot for SYN](#Bokeh-plot-for-SYN)\n",
    "4. [Bokeh plot for NNF](#Bokeh-plot-for-NNF)\n",
    "5. [Bokeh plot for DNT](#Bokeh-plot-for-DNT)"
   ]
  },
  {
   "cell_type": "markdown",
   "metadata": {},
   "source": [
    "### Initial setup"
   ]
  },
  {
   "cell_type": "code",
   "execution_count": 1,
   "metadata": {},
   "outputs": [
    {
     "name": "stdout",
     "output_type": "stream",
     "text": [
      "Packages uploaded successfully!\n"
     ]
    }
   ],
   "source": [
    "# Import libraries\n",
    "import pandas as pd\n",
    "import numpy as np\n",
    "\n",
    "from bokeh.plotting import figure, output_file, show\n",
    "\n",
    "from bokeh.models import ColumnDataSource\n",
    "from bokeh.palettes import Spectral6\n",
    "from bokeh.transform import factor_cmap\n",
    "from bokeh.models import LinearColorMapper, ColorBar, HoverTool, Legend, LegendItem\n",
    "from bokeh.transform import linear_cmap, transform\n",
    "\n",
    "print(\"Packages uploaded successfully!\")"
   ]
  },
  {
   "cell_type": "code",
   "execution_count": 2,
   "metadata": {},
   "outputs": [],
   "source": [
    "# Read results\n",
    "data = pd.read_csv('../data/post_pred.csv')"
   ]
  },
  {
   "cell_type": "code",
   "execution_count": 3,
   "metadata": {},
   "outputs": [
    {
     "data": {
      "text/html": [
       "<div>\n",
       "<style scoped>\n",
       "    .dataframe tbody tr th:only-of-type {\n",
       "        vertical-align: middle;\n",
       "    }\n",
       "\n",
       "    .dataframe tbody tr th {\n",
       "        vertical-align: top;\n",
       "    }\n",
       "\n",
       "    .dataframe thead th {\n",
       "        text-align: right;\n",
       "    }\n",
       "</style>\n",
       "<table border=\"1\" class=\"dataframe\">\n",
       "  <thead>\n",
       "    <tr style=\"text-align: right;\">\n",
       "      <th></th>\n",
       "      <th>Chemical name</th>\n",
       "      <th>CAS RN</th>\n",
       "      <th>post_pred_bdnf</th>\n",
       "      <th>post_pred_syn</th>\n",
       "      <th>post_pred_nnf</th>\n",
       "      <th>post_pred_dnt</th>\n",
       "    </tr>\n",
       "  </thead>\n",
       "  <tbody>\n",
       "    <tr>\n",
       "      <th>0</th>\n",
       "      <td>1-2-Propyleneglycol</td>\n",
       "      <td>57-55-6</td>\n",
       "      <td>0.59</td>\n",
       "      <td>0.46</td>\n",
       "      <td>0.40</td>\n",
       "      <td>0.44</td>\n",
       "    </tr>\n",
       "    <tr>\n",
       "      <th>1</th>\n",
       "      <td>5-Fluorouracil</td>\n",
       "      <td>51-21-8</td>\n",
       "      <td>0.60</td>\n",
       "      <td>0.76</td>\n",
       "      <td>0.74</td>\n",
       "      <td>0.86</td>\n",
       "    </tr>\n",
       "    <tr>\n",
       "      <th>2</th>\n",
       "      <td>Acetaminophen</td>\n",
       "      <td>103-90-2</td>\n",
       "      <td>0.60</td>\n",
       "      <td>0.47</td>\n",
       "      <td>0.41</td>\n",
       "      <td>0.46</td>\n",
       "    </tr>\n",
       "    <tr>\n",
       "      <th>3</th>\n",
       "      <td>Acetamiprid</td>\n",
       "      <td>135410-20-7</td>\n",
       "      <td>0.59</td>\n",
       "      <td>0.55</td>\n",
       "      <td>0.54</td>\n",
       "      <td>0.65</td>\n",
       "    </tr>\n",
       "    <tr>\n",
       "      <th>4</th>\n",
       "      <td>Acrylamide</td>\n",
       "      <td>79-06-1</td>\n",
       "      <td>0.59</td>\n",
       "      <td>0.59</td>\n",
       "      <td>0.60</td>\n",
       "      <td>0.72</td>\n",
       "    </tr>\n",
       "  </tbody>\n",
       "</table>\n",
       "</div>"
      ],
      "text/plain": [
       "         Chemical name       CAS RN  post_pred_bdnf  post_pred_syn  \\\n",
       "0  1-2-Propyleneglycol      57-55-6            0.59           0.46   \n",
       "1       5-Fluorouracil      51-21-8            0.60           0.76   \n",
       "2        Acetaminophen     103-90-2            0.60           0.47   \n",
       "3          Acetamiprid  135410-20-7            0.59           0.55   \n",
       "4           Acrylamide      79-06-1            0.59           0.59   \n",
       "\n",
       "   post_pred_nnf  post_pred_dnt  \n",
       "0           0.40           0.44  \n",
       "1           0.74           0.86  \n",
       "2           0.41           0.46  \n",
       "3           0.54           0.65  \n",
       "4           0.60           0.72  "
      ]
     },
     "execution_count": 3,
     "metadata": {},
     "output_type": "execute_result"
    }
   ],
   "source": [
    "# Check first five rows\n",
    "data.head(5)"
   ]
  },
  {
   "cell_type": "markdown",
   "metadata": {},
   "source": [
    "### Bokeh plot for BDNF"
   ]
  },
  {
   "cell_type": "code",
   "execution_count": 4,
   "metadata": {},
   "outputs": [],
   "source": [
    "output_file(\"../data/images/Bokeh plot BDNF.html\", title='Bokeh plot BDNF.html')"
   ]
  },
  {
   "cell_type": "code",
   "execution_count": 5,
   "metadata": {},
   "outputs": [],
   "source": [
    "y = data['post_pred_bdnf'].values.tolist()\n",
    "x = data['Chemical name'].values.tolist()\n",
    "sorted_chemical = sorted(x, key=lambda i: y[x.index(i)])\n",
    "\n",
    "color_list = []\n",
    "for i in y:\n",
    "    if i < .34:\n",
    "        color_list.append('green')\n",
    "    elif i >= .34 and i <= .67:\n",
    "        color_list.append('goldenrod')\n",
    "    else:\n",
    "        color_list.append('firebrick')\n",
    "              \n",
    "p = figure(plot_width=1100, plot_height=500, tools='save',\n",
    "           x_range=sorted_chemical, title=\"Reduction of brain-derived neurotrophic factor (BDNF)\")\n",
    "\n",
    "r=p.vbar(x=x, top=y, line_color=color_list, fill_color=color_list, width=0.8,\n",
    "      hover_line_color=\"white\")\n",
    "\n",
    "p.xgrid.grid_line_color = None\n",
    "p.x_range.range_padding = 0.01\n",
    "p.y_range.start = 0\n",
    "p.y_range.end = 1\n",
    "\n",
    "p.yaxis.axis_label = \"Predicted Probability\"\n",
    "p.xaxis.axis_label = \"Chemical Name\"\n",
    "p.xaxis.major_label_orientation = 1\n",
    "\n",
    "p.add_tools(HoverTool(tooltips=[(\"Predicted Probability\", \"$y\")]))\n",
    "\n",
    "\n",
    "legend = Legend(items=[LegendItem(label=\"Medium\", renderers=[r], index=1)])\n",
    "\n",
    "p.add_layout(legend)\n",
    "p.legend.title = \"Probability Class\"\n",
    "p.legend.title_text_font_style = \"bold\"\n",
    "p.legend.title_text_font_size = \"12px\"\n",
    "p.legend.location = \"top_left\"\n",
    "p.title.text_font_size = \"18px\"\n",
    "show(p)"
   ]
  },
  {
   "cell_type": "markdown",
   "metadata": {},
   "source": [
    "#### [Back](#Content)"
   ]
  },
  {
   "cell_type": "markdown",
   "metadata": {},
   "source": [
    "### Bokeh plot for SYN"
   ]
  },
  {
   "cell_type": "code",
   "execution_count": 6,
   "metadata": {},
   "outputs": [],
   "source": [
    "output_file(\"../data/images/Bokeh plot SYN.html\", title='Bokeh plot SYN.html')"
   ]
  },
  {
   "cell_type": "code",
   "execution_count": 7,
   "metadata": {},
   "outputs": [],
   "source": [
    "y = data['post_pred_syn'].values.tolist()\n",
    "x = data['Chemical name'].values.tolist()\n",
    "sorted_chemical = sorted(x, key=lambda i: y[x.index(i)])\n",
    "\n",
    "color_list = []\n",
    "for i in y:\n",
    "    if i < .34:\n",
    "        color_list.append('green')\n",
    "    elif i >= .34 and i <= .67:\n",
    "        color_list.append('goldenrod')\n",
    "    else:\n",
    "        color_list.append('firebrick')\n",
    "              \n",
    "p = figure(plot_width=1100, plot_height=500, tools='save',\n",
    "           x_range=sorted_chemical, title=\"Decrease of synaptogenesis\")\n",
    "\n",
    "r=p.vbar(x=x, top=y, line_color=color_list, fill_color=color_list, width=0.8,\n",
    "      hover_line_color=\"white\")\n",
    "\n",
    "p.xgrid.grid_line_color = None\n",
    "p.x_range.range_padding = 0.01\n",
    "p.y_range.start = 0\n",
    "p.y_range.end = 1\n",
    "\n",
    "p.yaxis.axis_label = \"Predicted Probability\"\n",
    "p.xaxis.axis_label = \"Chemical Name\"\n",
    "p.xaxis.major_label_orientation = 1\n",
    "\n",
    "p.add_tools(HoverTool(tooltips=[(\"Predicted Probability\", \"$y\")]))\n",
    "\n",
    "\n",
    "legend = Legend(items=[\n",
    "            LegendItem(label=\"High\", renderers=[r], index=1),\n",
    "            LegendItem(label=\"Medium\", renderers=[r], index=0)\n",
    "        ])\n",
    "\n",
    "p.add_layout(legend)\n",
    "p.legend.title = \"Probability Class\"\n",
    "p.legend.title_text_font_style = \"bold\"\n",
    "p.legend.title_text_font_size = \"12px\"\n",
    "p.legend.location = \"top_left\"\n",
    "p.title.text_font_size = \"18px\"\n",
    "show(p)"
   ]
  },
  {
   "cell_type": "markdown",
   "metadata": {},
   "source": [
    "#### [Back](#Content)"
   ]
  },
  {
   "cell_type": "markdown",
   "metadata": {},
   "source": [
    "### Bokeh plot for NNF"
   ]
  },
  {
   "cell_type": "code",
   "execution_count": 8,
   "metadata": {},
   "outputs": [],
   "source": [
    "output_file(\"../data/images/Bokeh plot NNF.html\", title='Bokeh plot NNF.html')"
   ]
  },
  {
   "cell_type": "code",
   "execution_count": 9,
   "metadata": {},
   "outputs": [],
   "source": [
    "y = data['post_pred_nnf'].values.tolist()\n",
    "x = data['Chemical name'].values.tolist()\n",
    "sorted_chemical = sorted(x, key=lambda i: y[x.index(i)])\n",
    "\n",
    "color_list = []\n",
    "for i in y:\n",
    "    if i < .34:\n",
    "        color_list.append('green')\n",
    "    elif i >= .34 and i <= .67:\n",
    "        color_list.append('goldenrod')\n",
    "    else:\n",
    "        color_list.append('firebrick')\n",
    "              \n",
    "p = figure(plot_width=1100, plot_height=500, tools='save',\n",
    "           x_range=sorted_chemical, title=\"Decrease of neural network formation\")\n",
    "\n",
    "r=p.vbar(x=x, top=y, line_color=color_list, fill_color=color_list, width=0.8,\n",
    "      hover_line_color=\"white\")\n",
    "\n",
    "p.xgrid.grid_line_color = None\n",
    "p.x_range.range_padding = 0.01\n",
    "p.y_range.start = 0\n",
    "p.y_range.end = 1\n",
    "\n",
    "p.yaxis.axis_label = \"Predicted Probability\"\n",
    "p.xaxis.axis_label = \"Chemical Name\"\n",
    "p.xaxis.major_label_orientation = 1\n",
    "\n",
    "p.add_tools(HoverTool(tooltips=[(\"Predicted Probability\", \"$y\")]))\n",
    "\n",
    "\n",
    "legend = Legend(items=[\n",
    "            LegendItem(label=\"High\", renderers=[r], index=1),\n",
    "            LegendItem(label=\"Medium\", renderers=[r], index=0),\n",
    "            LegendItem(label=\"Low\", renderers=[r], index=43)\n",
    "        ])\n",
    "\n",
    "p.add_layout(legend)\n",
    "p.legend.title = \"Probability Class\"\n",
    "p.legend.title_text_font_style = \"bold\"\n",
    "p.legend.title_text_font_size = \"12px\"\n",
    "p.legend.location = \"top_left\"\n",
    "p.title.text_font_size = \"18px\"\n",
    "show(p)"
   ]
  },
  {
   "cell_type": "markdown",
   "metadata": {},
   "source": [
    "#### [Back](#Content)"
   ]
  },
  {
   "cell_type": "markdown",
   "metadata": {},
   "source": [
    "### Bokeh plot for DNT"
   ]
  },
  {
   "cell_type": "code",
   "execution_count": 10,
   "metadata": {},
   "outputs": [],
   "source": [
    "output_file(\"../data/images/Bokeh plot DNT.html\", title='Bokeh plot DNT.html')"
   ]
  },
  {
   "cell_type": "code",
   "execution_count": 11,
   "metadata": {},
   "outputs": [],
   "source": [
    "y = data['post_pred_dnt'].values.tolist()\n",
    "x = data['Chemical name'].values.tolist()\n",
    "sorted_chemical = sorted(x, key=lambda i: y[x.index(i)])\n",
    "\n",
    "color_list = []\n",
    "for i in y:\n",
    "    if i < .34:\n",
    "        color_list.append('green')\n",
    "    elif i >= .34 and i <= .67:\n",
    "        color_list.append('goldenrod')\n",
    "    else:\n",
    "        color_list.append('firebrick')\n",
    "              \n",
    "p = figure(plot_width=1100, plot_height=500, tools='save',\n",
    "           x_range=sorted_chemical, title=\"Developmental neurotoxicity\")\n",
    "\n",
    "r=p.vbar(x=x, top=y, line_color=color_list, fill_color=color_list, width=0.8,\n",
    "      hover_line_color=\"white\")\n",
    "\n",
    "p.xgrid.grid_line_color = None\n",
    "p.x_range.range_padding = 0.01\n",
    "p.y_range.start = 0\n",
    "p.y_range.end = 1\n",
    "\n",
    "p.yaxis.axis_label = \"Predicted Probability\"\n",
    "p.xaxis.axis_label = \"Chemical Name\"\n",
    "p.xaxis.major_label_orientation = 1\n",
    "\n",
    "p.add_tools(HoverTool(tooltips=[(\"Predicted Probability\", \"$y\")]))\n",
    "\n",
    "\n",
    "legend = Legend(items=[\n",
    "            LegendItem(label=\"High\", renderers=[r], index=1),\n",
    "            LegendItem(label=\"Medium\", renderers=[r], index=0),\n",
    "            LegendItem(label=\"Low\", renderers=[r], index=43)\n",
    "        ])\n",
    "\n",
    "p.add_layout(legend)\n",
    "p.legend.title = \"Probability Class\"\n",
    "p.legend.title_text_font_style = \"bold\"\n",
    "p.legend.title_text_font_size = \"12px\"\n",
    "p.legend.location = \"top_left\"\n",
    "p.title.text_font_size = \"18px\"\n",
    "show(p)"
   ]
  },
  {
   "cell_type": "markdown",
   "metadata": {},
   "source": [
    "#### [Back](#Content)"
   ]
  },
  {
   "cell_type": "code",
   "execution_count": 12,
   "metadata": {},
   "outputs": [
    {
     "name": "stdout",
     "output_type": "stream",
     "text": [
      "Last updated: Fri Sep 10 2021\n",
      "\n",
      "Python implementation: CPython\n",
      "Python version       : 3.8.10\n",
      "IPython version      : 7.26.0\n",
      "\n",
      "pandas: 1.3.2\n",
      "numpy : 1.21.2\n",
      "\n",
      "Watermark: 2.2.0\n",
      "\n"
     ]
    }
   ],
   "source": [
    "%reload_ext watermark\n",
    "%watermark -n -u -v -iv -w"
   ]
  },
  {
   "cell_type": "code",
   "execution_count": null,
   "metadata": {},
   "outputs": [],
   "source": []
  }
 ],
 "metadata": {
  "kernelspec": {
   "display_name": "pymc3",
   "language": "python",
   "name": "pymc3"
  },
  "language_info": {
   "codemirror_mode": {
    "name": "ipython",
    "version": 3
   },
   "file_extension": ".py",
   "mimetype": "text/x-python",
   "name": "python",
   "nbconvert_exporter": "python",
   "pygments_lexer": "ipython3",
   "version": "3.8.10"
  }
 },
 "nbformat": 4,
 "nbformat_minor": 4
}