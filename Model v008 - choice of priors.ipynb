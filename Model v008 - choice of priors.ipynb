{
 "cells": [
  {
   "cell_type": "code",
   "execution_count": 1,
   "metadata": {},
   "outputs": [
    {
     "name": "stdout",
     "output_type": "stream",
     "text": [
      "Packages uploaded successfully!\n"
     ]
    }
   ],
   "source": [
    "# --- Import libraries --- #\n",
    "import pandas as pd\n",
    "import numpy as np\n",
    "from patsy import dmatrices, dmatrix\n",
    "from scipy import stats\n",
    "from scipy.special import expit as logistic\n",
    "from sklearn.preprocessing import StandardScaler\n",
    "from sklearn.impute import SimpleImputer\n",
    "\n",
    "%matplotlib inline\n",
    "import matplotlib.pyplot as plt\n",
    "import matplotlib.patches as mpatches\n",
    "import matplotlib as mpl\n",
    "import seaborn as sns\n",
    "\n",
    "import theano\n",
    "import theano.tensor as tt\n",
    "import pymc3 as pm\n",
    "import arviz as az\n",
    "\n",
    "import warnings\n",
    "warnings.simplefilter(action=\"ignore\")\n",
    "%config InlineBackend.figure_format = 'retina'\n",
    "\n",
    "print(\"Packages uploaded successfully!\")"
   ]
  },
  {
   "cell_type": "code",
   "execution_count": 2,
   "metadata": {},
   "outputs": [],
   "source": [
    "# --- Read data --- #\n",
    "data = pd.read_csv('./machine_readable.csv')\n",
    "\n",
    "# --- Standardise continuous values --- #\n",
    "data_prep = data[['LogD', 'Cbrain/Cblood','Syn_EC30', \n",
    "                  'Viability_EC30', 'NNF_EC50min', 'NNF_EC50max', 'Viability_LDH_EC50', 'Viability_AB_EC50']]\n",
    "sc = StandardScaler()\n",
    "data_scaled = sc.fit_transform(data_prep)\n",
    "data_scaled = pd.DataFrame(data_scaled)\n",
    "data_scaled.columns = ['LogD', 'Cbrain/Cblood','Syn_EC30', \n",
    "                       'Viability_EC30', 'NNF_EC50min', 'NNF_EC50max', 'Viability_LDH_EC50', 'Viability_AB_EC50']\n",
    "\n",
    "# Add other discrete values and details\n",
    "discrete = data [['Chemical', 'CASRN', 'DNT', 'BBB', 'Pgp_inhibition', 'Pgp_substrate', 'Pgp_active', \n",
    "  'BDNF_Reduction', 'Activity_Syn', 'Activity_NNF']]\n",
    "data = discrete.join(data_scaled, lsuffix=\"_left\", rsuffix=\"_right\")\n",
    "\n",
    "# --- Define predictors and outcomes --- #\n",
    "\n",
    "# BDNF given by continuous and discrete variables\n",
    "x_bdnf = pd.DataFrame(data[['LogD', 'Cbrain/Cblood', 'BBB', \n",
    "                            'Pgp_inhibition', 'Pgp_substrate', 'Pgp_active']]).values\n",
    "y_bdnf = pd.DataFrame(data[['BDNF_Reduction']]).values\n",
    "\n",
    "# SYN\n",
    "x_syn = pd.DataFrame(data[['Syn_EC30', 'Viability_EC30']]).values\n",
    "Y_syn = pd.DataFrame(data[['Activity_Syn']]).values #Y because no missing values\n",
    "\n",
    "# NNF\n",
    "x_nnf = pd.DataFrame(data[['NNF_EC50min', 'NNF_EC50max', 'Viability_LDH_EC50', 'Viability_AB_EC50']]).values\n",
    "Y_nnf = pd.DataFrame(data[['Activity_NNF']]).values #Y because no missing values\n",
    "\n",
    "# x_dnt is given by causal relations BDNF->SYN->NNF->DNT<-BNDF\n",
    "Y_dnt = pd.DataFrame(data[['DNT']]).values #Y because no missing values"
   ]
  },
  {
   "cell_type": "code",
   "execution_count": 3,
   "metadata": {},
   "outputs": [],
   "source": [
    "# --- Masking missing data --- #\n",
    "# BDNF\n",
    "x_bdnf_missing = np.isnan(x_bdnf)\n",
    "X_bdnf_train = np.ma.masked_array(x_bdnf, mask=x_bdnf_missing)\n",
    "y_bdnf_missing = np.isnan(y_bdnf)\n",
    "Y_bdnf_train = np.ma.masked_array(y_bdnf, mask=y_bdnf_missing)\n",
    "\n",
    "# SYN\n",
    "x_syn_missing = np.isnan(x_syn)\n",
    "X_syn_train = np.ma.masked_array(x_syn, mask=x_syn_missing)\n",
    "\n",
    "# NNF\n",
    "x_nnf_missing = np.isnan(x_nnf)\n",
    "X_nnf_train = np.ma.masked_array(x_nnf, mask=x_nnf_missing)"
   ]
  },
  {
   "cell_type": "code",
   "execution_count": 4,
   "metadata": {},
   "outputs": [
    {
     "data": {
      "text/plain": [
       "mu_beta                      5.99\n",
       "sd_beta_log__               -0.77\n",
       "beta_bdnf                   -4.16\n",
       "beta_syn                    -1.39\n",
       "beta_nnf                    -2.77\n",
       "Xmu_bdnf                    35.93\n",
       "Xsigma_bdnf_log__           -4.62\n",
       "X_bdnf_modelled_missing      0.00\n",
       "y_obs_bdnf_missing           0.00\n",
       "Xmu_syn                     11.98\n",
       "Xsigma_syn_log__            -1.54\n",
       "X_syn_modelled_missing       0.00\n",
       "Xmu_nnf                     23.96\n",
       "Xsigma_nnf_log__            -3.08\n",
       "X_nnf_modelled_missing       0.00\n",
       "X_bdnf_modelled           -552.12\n",
       "y_obs_bdnf                 -61.00\n",
       "X_syn_modelled            -172.26\n",
       "y_obs_syn                  -61.00\n",
       "X_nnf_modelled            -394.00\n",
       "y_obs_nnf                  -61.00\n",
       "y_obs_dnt                  -61.00\n",
       "Name: Log-probability of test_point, dtype: float64"
      ]
     },
     "execution_count": 4,
     "metadata": {},
     "output_type": "execute_result"
    }
   ],
   "source": [
    "# FIRST MODEL\n",
    "# --- Define and fit the model --- #\n",
    "with pm.Model() as model1:\n",
    "    # Define hyperpriors\n",
    "    mu_beta = pm.Normal('mu_beta', mu=0, sd=0.001) \n",
    "    sd_beta = pm.HalfNormal('sd_beta', sd=1)\n",
    "    # Define priors\n",
    "    beta_bdnf = pm.Normal('beta_bdnf', mu=mu_beta, sd=sd_beta, shape=(6,1))\n",
    "    beta_syn = pm.Normal('beta_syn', mu=mu_beta, sd=sd_beta, shape=(2,1))\n",
    "    beta_nnf = pm.Normal('beta_nnf', mu=mu_beta, sd=sd_beta, shape=(4,1))\n",
    "    \n",
    "    # Imputation of X missing values for BDNF\n",
    "    Xmu_bdnf = pm.Normal('Xmu_bdnf', mu=0, sd=0.001, shape=(1,6))\n",
    "    Xsigma_bdnf = pm.HalfNormal('Xsigma_bdnf', sd=1, shape=(1,6))\n",
    "    X_bdnf_modelled = pm.Normal('X_bdnf_modelled', \n",
    "                                         mu=Xmu_bdnf, sigma=Xsigma_bdnf, observed=X_bdnf_train)\n",
    "\n",
    "    # Likelihood for BDNF\n",
    "    # SLogP, Cbrain/Cblood, BBB, Pgp->BDNF\n",
    "    lp_bdnf = pm.Deterministic('lp_bdnf', pm.math.dot(X_bdnf_modelled, beta_bdnf))\n",
    "    y_obs_bdnf = pm.Bernoulli('y_obs_bdnf', logit_p=lp_bdnf, observed=Y_bdnf_train)\n",
    "    \n",
    "    # Imputation of X missing values for SYN\n",
    "    Xmu_syn = pm.Normal('Xmu_syn', mu=0, sd=0.001, shape=(1,2))\n",
    "    Xsigma_syn = pm.HalfNormal('Xsigma_syn', sd=1, shape=(1,2))\n",
    "    X_syn_modelled = pm.Normal('X_syn_modelled',\n",
    "                                 mu=Xmu_syn, sigma=Xsigma_syn, observed=X_syn_train)\n",
    "\n",
    "    # Likelihood for SYN\n",
    "    # BDNF->SYN\n",
    "    lp_syn = pm.Deterministic('lp_syn', lp_bdnf + pm.math.dot(X_syn_modelled, beta_syn))\n",
    "    y_obs_syn = pm.Bernoulli(\"y_obs_syn\", logit_p=lp_syn, observed=Y_syn)\n",
    "    \n",
    "    # Imputation of X missing values for NNF\n",
    "    Xmu_nnf = pm.Normal('Xmu_nnf', mu=0, sd=0.001, shape=(1,4))\n",
    "    Xsigma_nnf = pm.HalfNormal('Xsigma_nnf', sd=1, shape=(1,4)) \n",
    "    X_nnf_modelled = pm.Normal('X_nnf_modelled',\n",
    "                                 mu=Xmu_nnf, sd=Xsigma_nnf, observed=X_nnf_train)\n",
    "   \n",
    "    # Likelihood for NNF\n",
    "    # BDNF->SYN->NNF\n",
    "    lp_nnf = pm.Deterministic('lp_nnf', lp_syn + pm.math.dot(X_nnf_modelled, beta_nnf))\n",
    "    y_obs_nnf = pm.Bernoulli(\"y_obs_nnf\", logit_p=lp_nnf, observed=Y_nnf)\n",
    "    \n",
    "    # Define causal relationships for DNT\n",
    "    lp_dnt = pm.Deterministic('lp_dnt', lp_bdnf + lp_syn + lp_nnf)\n",
    "    y_obs_dnt = pm.Bernoulli('y_obs_dnt', logit_p=lp_dnt, observed=Y_dnt)\n",
    "\n",
    "# Checking the proposed structure of model\n",
    "model1.check_test_point()"
   ]
  },
  {
   "cell_type": "code",
   "execution_count": 5,
   "metadata": {},
   "outputs": [
    {
     "name": "stderr",
     "output_type": "stream",
     "text": [
      "INFO (theano.gof.compilelock): Waiting for existing lock by process '11837' (I am process '11736')\n",
      "INFO (theano.gof.compilelock): To manually release the lock, delete /Users/nicospinu/.theano/compiledir_macOS-10.16-x86_64-i386-64bit-i386-3.8.5-64/lock_dir\n",
      "INFO (theano.gof.compilelock): Waiting for existing lock by process '11887' (I am process '11736')\n",
      "INFO (theano.gof.compilelock): To manually release the lock, delete /Users/nicospinu/.theano/compiledir_macOS-10.16-x86_64-i386-64bit-i386-3.8.5-64/lock_dir\n",
      "Multiprocess sampling (4 chains in 4 jobs)\n",
      "CompoundStep\n",
      ">NUTS: [X_nnf_modelled_missing, Xsigma_nnf, Xmu_nnf, X_syn_modelled_missing, Xsigma_syn, Xmu_syn, X_bdnf_modelled_missing, Xsigma_bdnf, Xmu_bdnf, beta_nnf, beta_syn, beta_bdnf, sd_beta, mu_beta]\n",
      ">BinaryGibbsMetropolis: [y_obs_bdnf_missing]\n"
     ]
    },
    {
     "data": {
      "text/html": [
       "\n",
       "    <div>\n",
       "        <style>\n",
       "            /* Turns off some styling */\n",
       "            progress {\n",
       "                /* gets rid of default border in Firefox and Opera. */\n",
       "                border: none;\n",
       "                /* Needs to be in here for Safari polyfill so background images work as expected. */\n",
       "                background-size: auto;\n",
       "            }\n",
       "            .progress-bar-interrupted, .progress-bar-interrupted::-webkit-progress-bar {\n",
       "                background: #F44336;\n",
       "            }\n",
       "        </style>\n",
       "      <progress value='8000' class='' max='8000' style='width:300px; height:20px; vertical-align: middle;'></progress>\n",
       "      100.00% [8000/8000 01:10<00:00 Sampling 4 chains, 0 divergences]\n",
       "    </div>\n",
       "    "
      ],
      "text/plain": [
       "<IPython.core.display.HTML object>"
      ]
     },
     "metadata": {},
     "output_type": "display_data"
    },
    {
     "name": "stderr",
     "output_type": "stream",
     "text": [
      "Sampling 4 chains for 1_000 tune and 1_000 draw iterations (4_000 + 4_000 draws total) took 82 seconds.\n",
      "The number of effective samples is smaller than 10% for some parameters.\n"
     ]
    },
    {
     "data": {
      "text/html": [
       "\n",
       "    <div>\n",
       "        <style>\n",
       "            /* Turns off some styling */\n",
       "            progress {\n",
       "                /* gets rid of default border in Firefox and Opera. */\n",
       "                border: none;\n",
       "                /* Needs to be in here for Safari polyfill so background images work as expected. */\n",
       "                background-size: auto;\n",
       "            }\n",
       "            .progress-bar-interrupted, .progress-bar-interrupted::-webkit-progress-bar {\n",
       "                background: #F44336;\n",
       "            }\n",
       "        </style>\n",
       "      <progress value='4000' class='' max='4000' style='width:300px; height:20px; vertical-align: middle;'></progress>\n",
       "      100.00% [4000/4000 00:23<00:00]\n",
       "    </div>\n",
       "    "
      ],
      "text/plain": [
       "<IPython.core.display.HTML object>"
      ]
     },
     "metadata": {},
     "output_type": "display_data"
    }
   ],
   "source": [
    "# --- Run inferences and compute posterior distributions --- #\n",
    "with model1:\n",
    "    trace_model1 = pm.sample(cores=4, nuts ={'target_accept':0.90})\n",
    "    #Predictions\n",
    "    posterior_model1 = pm.sample_posterior_predictive(trace_model1)"
   ]
  },
  {
   "cell_type": "code",
   "execution_count": 6,
   "metadata": {},
   "outputs": [
    {
     "data": {
      "text/plain": [
       "mu_beta                      3.69\n",
       "sd_beta_log__               -0.77\n",
       "beta_bdnf                   -8.32\n",
       "beta_syn                    -2.77\n",
       "beta_nnf                    -5.55\n",
       "Xmu_bdnf                    22.12\n",
       "Xsigma_bdnf_log__           -4.62\n",
       "X_bdnf_modelled_missing      0.00\n",
       "y_obs_bdnf_missing           0.00\n",
       "Xmu_syn                      7.37\n",
       "Xsigma_syn_log__            -1.54\n",
       "X_syn_modelled_missing       0.00\n",
       "Xmu_nnf                     14.74\n",
       "Xsigma_nnf_log__            -3.08\n",
       "X_nnf_modelled_missing       0.00\n",
       "X_bdnf_modelled           -778.50\n",
       "y_obs_bdnf                 -61.00\n",
       "X_syn_modelled            -256.55\n",
       "y_obs_syn                  -61.00\n",
       "X_nnf_modelled            -525.48\n",
       "y_obs_nnf                  -61.00\n",
       "y_obs_dnt                  -61.00\n",
       "Name: Log-probability of test_point, dtype: float64"
      ]
     },
     "execution_count": 6,
     "metadata": {},
     "output_type": "execute_result"
    }
   ],
   "source": [
    "# SECOND MODEL\n",
    "# --- Define and fit the model --- #\n",
    "with pm.Model() as model2:\n",
    "    # Define hyperpriors\n",
    "    mu_beta = pm.Normal('mu_beta', mu=0, sd=0.01) \n",
    "    sd_beta = pm.HalfNormal('sd_beta', sd=2)\n",
    "    # Define priors\n",
    "    beta_bdnf = pm.Normal('beta_bdnf', mu=mu_beta, sd=sd_beta, shape=(6,1))\n",
    "    beta_syn = pm.Normal('beta_syn', mu=mu_beta, sd=sd_beta, shape=(2,1))\n",
    "    beta_nnf = pm.Normal('beta_nnf', mu=mu_beta, sd=sd_beta, shape=(4,1))\n",
    "    \n",
    "    # Imputation of X missing values for BDNF\n",
    "    Xmu_bdnf = pm.Normal('Xmu_bdnf', mu=0, sd=0.01, shape=(1,6))\n",
    "    Xsigma_bdnf = pm.HalfNormal('Xsigma_bdnf', sd=2, shape=(1,6))\n",
    "    X_bdnf_modelled = pm.Normal('X_bdnf_modelled', \n",
    "                                         mu=Xmu_bdnf, sigma=Xsigma_bdnf, observed=X_bdnf_train)\n",
    "\n",
    "    # Likelihood for BDNF\n",
    "    # SLogP, Cbrain/Cblood, BBB, Pgp->BDNF\n",
    "    lp_bdnf = pm.Deterministic('lp_bdnf', pm.math.dot(X_bdnf_modelled, beta_bdnf))\n",
    "    y_obs_bdnf = pm.Bernoulli('y_obs_bdnf', logit_p=lp_bdnf, observed=Y_bdnf_train)\n",
    "    \n",
    "    # Imputation of X missing values for SYN\n",
    "    Xmu_syn = pm.Normal('Xmu_syn', mu=0, sd=0.01, shape=(1,2))\n",
    "    Xsigma_syn = pm.HalfNormal('Xsigma_syn', sd=2, shape=(1,2))\n",
    "    X_syn_modelled = pm.Normal('X_syn_modelled',\n",
    "                                 mu=Xmu_syn, sigma=Xsigma_syn, observed=X_syn_train)\n",
    "\n",
    "    # Likelihood for SYN\n",
    "    # BDNF->SYN\n",
    "    lp_syn = pm.Deterministic('lp_syn', lp_bdnf + pm.math.dot(X_syn_modelled, beta_syn))\n",
    "    y_obs_syn = pm.Bernoulli(\"y_obs_syn\", logit_p=lp_syn, observed=Y_syn)\n",
    "    \n",
    "    # Imputation of X missing values for NNF\n",
    "    Xmu_nnf = pm.Normal('Xmu_nnf', mu=0, sd=0.01, shape=(1,4))\n",
    "    Xsigma_nnf = pm.HalfNormal('Xsigma_nnf', sd=2, shape=(1,4)) \n",
    "    X_nnf_modelled = pm.Normal('X_nnf_modelled',\n",
    "                                 mu=Xmu_nnf, sd=Xsigma_nnf, observed=X_nnf_train)\n",
    "   \n",
    "    # Likelihood for NNF\n",
    "    # BDNF->SYN->NNF\n",
    "    lp_nnf = pm.Deterministic('lp_nnf', lp_syn + pm.math.dot(X_nnf_modelled, beta_nnf))\n",
    "    y_obs_nnf = pm.Bernoulli(\"y_obs_nnf\", logit_p=lp_nnf, observed=Y_nnf)\n",
    "    \n",
    "    # Define causal relationships for DNT\n",
    "    lp_dnt = pm.Deterministic('lp_dnt', lp_bdnf + lp_syn + lp_nnf)\n",
    "    y_obs_dnt = pm.Bernoulli('y_obs_dnt', logit_p=lp_dnt, observed=Y_dnt)\n",
    "\n",
    "# Checking the proposed structure of model\n",
    "model2.check_test_point()"
   ]
  },
  {
   "cell_type": "code",
   "execution_count": 7,
   "metadata": {},
   "outputs": [
    {
     "name": "stderr",
     "output_type": "stream",
     "text": [
      "Multiprocess sampling (4 chains in 4 jobs)\n",
      "CompoundStep\n",
      ">NUTS: [X_nnf_modelled_missing, Xsigma_nnf, Xmu_nnf, X_syn_modelled_missing, Xsigma_syn, Xmu_syn, X_bdnf_modelled_missing, Xsigma_bdnf, Xmu_bdnf, beta_nnf, beta_syn, beta_bdnf, sd_beta, mu_beta]\n",
      ">BinaryGibbsMetropolis: [y_obs_bdnf_missing]\n"
     ]
    },
    {
     "data": {
      "text/html": [
       "\n",
       "    <div>\n",
       "        <style>\n",
       "            /* Turns off some styling */\n",
       "            progress {\n",
       "                /* gets rid of default border in Firefox and Opera. */\n",
       "                border: none;\n",
       "                /* Needs to be in here for Safari polyfill so background images work as expected. */\n",
       "                background-size: auto;\n",
       "            }\n",
       "            .progress-bar-interrupted, .progress-bar-interrupted::-webkit-progress-bar {\n",
       "                background: #F44336;\n",
       "            }\n",
       "        </style>\n",
       "      <progress value='8000' class='' max='8000' style='width:300px; height:20px; vertical-align: middle;'></progress>\n",
       "      100.00% [8000/8000 01:00<00:00 Sampling 4 chains, 0 divergences]\n",
       "    </div>\n",
       "    "
      ],
      "text/plain": [
       "<IPython.core.display.HTML object>"
      ]
     },
     "metadata": {},
     "output_type": "display_data"
    },
    {
     "name": "stderr",
     "output_type": "stream",
     "text": [
      "Sampling 4 chains for 1_000 tune and 1_000 draw iterations (4_000 + 4_000 draws total) took 72 seconds.\n",
      "The estimated number of effective samples is smaller than 200 for some parameters.\n"
     ]
    },
    {
     "data": {
      "text/html": [
       "\n",
       "    <div>\n",
       "        <style>\n",
       "            /* Turns off some styling */\n",
       "            progress {\n",
       "                /* gets rid of default border in Firefox and Opera. */\n",
       "                border: none;\n",
       "                /* Needs to be in here for Safari polyfill so background images work as expected. */\n",
       "                background-size: auto;\n",
       "            }\n",
       "            .progress-bar-interrupted, .progress-bar-interrupted::-webkit-progress-bar {\n",
       "                background: #F44336;\n",
       "            }\n",
       "        </style>\n",
       "      <progress value='4000' class='' max='4000' style='width:300px; height:20px; vertical-align: middle;'></progress>\n",
       "      100.00% [4000/4000 00:20<00:00]\n",
       "    </div>\n",
       "    "
      ],
      "text/plain": [
       "<IPython.core.display.HTML object>"
      ]
     },
     "metadata": {},
     "output_type": "display_data"
    }
   ],
   "source": [
    "# --- Run inferences and compute posterior distributions --- #\n",
    "with model2:\n",
    "    trace_model2 = pm.sample(cores=4, nuts ={'target_accept':0.90})\n",
    "    #Predictions\n",
    "    posterior_model2 = pm.sample_posterior_predictive(trace_model2)"
   ]
  },
  {
   "cell_type": "code",
   "execution_count": 8,
   "metadata": {},
   "outputs": [
    {
     "data": {
      "text/plain": [
       "mu_beta                      3.69\n",
       "sd_beta_log__               -0.77\n",
       "beta_bdnf                  -13.82\n",
       "beta_syn                    -4.61\n",
       "beta_nnf                    -9.21\n",
       "Xmu_bdnf                    -5.51\n",
       "Xsigma_bdnf_log__           -4.62\n",
       "X_bdnf_modelled_missing      0.00\n",
       "y_obs_bdnf_missing           0.00\n",
       "Xmu_syn                     -1.84\n",
       "Xsigma_syn_log__            -1.54\n",
       "X_syn_modelled_missing       0.00\n",
       "Xmu_nnf                     -3.68\n",
       "Xsigma_nnf_log__            -3.08\n",
       "X_nnf_modelled_missing       0.00\n",
       "X_bdnf_modelled           -778.50\n",
       "y_obs_bdnf                 -61.00\n",
       "X_syn_modelled            -256.55\n",
       "y_obs_syn                  -61.00\n",
       "X_nnf_modelled            -525.48\n",
       "y_obs_nnf                  -61.00\n",
       "y_obs_dnt                  -61.00\n",
       "Name: Log-probability of test_point, dtype: float64"
      ]
     },
     "execution_count": 8,
     "metadata": {},
     "output_type": "execute_result"
    }
   ],
   "source": [
    "# THIRD MODEL\n",
    "# --- Define and fit the model --- #\n",
    "with pm.Model() as model3:\n",
    "    # Define hyperpriors\n",
    "    mu_beta = pm.Normal('mu_beta', mu=0, sd=0.01) \n",
    "    sd_beta = pm.HalfNormal('sd_beta', sd=5)\n",
    "    # Define priors\n",
    "    beta_bdnf = pm.Normal('beta_bdnf', mu=mu_beta, sd=sd_beta, shape=(6,1))\n",
    "    beta_syn = pm.Normal('beta_syn', mu=mu_beta, sd=sd_beta, shape=(2,1))\n",
    "    beta_nnf = pm.Normal('beta_nnf', mu=mu_beta, sd=sd_beta, shape=(4,1))\n",
    "    \n",
    "    # Imputation of X missing values for BDNF\n",
    "    Xmu_bdnf = pm.Normal('Xmu_bdnf', mu=0, sd=1, shape=(1,6))\n",
    "    Xsigma_bdnf = pm.HalfNormal('Xsigma_bdnf', sd=2, shape=(1,6))\n",
    "    X_bdnf_modelled = pm.Normal('X_bdnf_modelled', \n",
    "                                         mu=Xmu_bdnf, sigma=Xsigma_bdnf, observed=X_bdnf_train)\n",
    "\n",
    "    # Likelihood for BDNF\n",
    "    # SLogP, Cbrain/Cblood, BBB, Pgp->BDNF\n",
    "    lp_bdnf = pm.Deterministic('lp_bdnf', pm.math.dot(X_bdnf_modelled, beta_bdnf))\n",
    "    y_obs_bdnf = pm.Bernoulli('y_obs_bdnf', logit_p=lp_bdnf, observed=Y_bdnf_train)\n",
    "    \n",
    "    # Imputation of X missing values for SYN\n",
    "    Xmu_syn = pm.Normal('Xmu_syn', mu=0, sd=1, shape=(1,2))\n",
    "    Xsigma_syn = pm.HalfNormal('Xsigma_syn', sd=2, shape=(1,2))\n",
    "    X_syn_modelled = pm.Normal('X_syn_modelled',\n",
    "                                 mu=Xmu_syn, sigma=Xsigma_syn, observed=X_syn_train)\n",
    "\n",
    "    # Likelihood for SYN\n",
    "    # BDNF->SYN\n",
    "    lp_syn = pm.Deterministic('lp_syn', lp_bdnf + pm.math.dot(X_syn_modelled, beta_syn))\n",
    "    y_obs_syn = pm.Bernoulli(\"y_obs_syn\", logit_p=lp_syn, observed=Y_syn)\n",
    "    \n",
    "    # Imputation of X missing values for NNF\n",
    "    Xmu_nnf = pm.Normal('Xmu_nnf', mu=0, sd=1, shape=(1,4))\n",
    "    Xsigma_nnf = pm.HalfNormal('Xsigma_nnf', sd=2, shape=(1,4)) \n",
    "    X_nnf_modelled = pm.Normal('X_nnf_modelled',\n",
    "                                 mu=Xmu_nnf, sd=Xsigma_nnf, observed=X_nnf_train)\n",
    "   \n",
    "    # Likelihood for NNF\n",
    "    # BDNF->SYN->NNF\n",
    "    lp_nnf = pm.Deterministic('lp_nnf', lp_syn + pm.math.dot(X_nnf_modelled, beta_nnf))\n",
    "    y_obs_nnf = pm.Bernoulli(\"y_obs_nnf\", logit_p=lp_nnf, observed=Y_nnf)\n",
    "    \n",
    "    # Define causal relationships for DNT\n",
    "    lp_dnt = pm.Deterministic('lp_dnt', lp_bdnf + lp_syn + lp_nnf)\n",
    "    y_obs_dnt = pm.Bernoulli('y_obs_dnt', logit_p=lp_dnt, observed=Y_dnt)\n",
    "\n",
    "# Checking the proposed structure of model\n",
    "model3.check_test_point()"
   ]
  },
  {
   "cell_type": "code",
   "execution_count": 9,
   "metadata": {},
   "outputs": [
    {
     "name": "stderr",
     "output_type": "stream",
     "text": [
      "Multiprocess sampling (4 chains in 4 jobs)\n",
      "CompoundStep\n",
      ">NUTS: [X_nnf_modelled_missing, Xsigma_nnf, Xmu_nnf, X_syn_modelled_missing, Xsigma_syn, Xmu_syn, X_bdnf_modelled_missing, Xsigma_bdnf, Xmu_bdnf, beta_nnf, beta_syn, beta_bdnf, sd_beta, mu_beta]\n",
      ">BinaryGibbsMetropolis: [y_obs_bdnf_missing]\n"
     ]
    },
    {
     "data": {
      "text/html": [
       "\n",
       "    <div>\n",
       "        <style>\n",
       "            /* Turns off some styling */\n",
       "            progress {\n",
       "                /* gets rid of default border in Firefox and Opera. */\n",
       "                border: none;\n",
       "                /* Needs to be in here for Safari polyfill so background images work as expected. */\n",
       "                background-size: auto;\n",
       "            }\n",
       "            .progress-bar-interrupted, .progress-bar-interrupted::-webkit-progress-bar {\n",
       "                background: #F44336;\n",
       "            }\n",
       "        </style>\n",
       "      <progress value='8000' class='' max='8000' style='width:300px; height:20px; vertical-align: middle;'></progress>\n",
       "      100.00% [8000/8000 01:07<00:00 Sampling 4 chains, 0 divergences]\n",
       "    </div>\n",
       "    "
      ],
      "text/plain": [
       "<IPython.core.display.HTML object>"
      ]
     },
     "metadata": {},
     "output_type": "display_data"
    },
    {
     "name": "stderr",
     "output_type": "stream",
     "text": [
      "Sampling 4 chains for 1_000 tune and 1_000 draw iterations (4_000 + 4_000 draws total) took 77 seconds.\n",
      "The number of effective samples is smaller than 10% for some parameters.\n"
     ]
    },
    {
     "data": {
      "text/html": [
       "\n",
       "    <div>\n",
       "        <style>\n",
       "            /* Turns off some styling */\n",
       "            progress {\n",
       "                /* gets rid of default border in Firefox and Opera. */\n",
       "                border: none;\n",
       "                /* Needs to be in here for Safari polyfill so background images work as expected. */\n",
       "                background-size: auto;\n",
       "            }\n",
       "            .progress-bar-interrupted, .progress-bar-interrupted::-webkit-progress-bar {\n",
       "                background: #F44336;\n",
       "            }\n",
       "        </style>\n",
       "      <progress value='4000' class='' max='4000' style='width:300px; height:20px; vertical-align: middle;'></progress>\n",
       "      100.00% [4000/4000 00:18<00:00]\n",
       "    </div>\n",
       "    "
      ],
      "text/plain": [
       "<IPython.core.display.HTML object>"
      ]
     },
     "metadata": {},
     "output_type": "display_data"
    }
   ],
   "source": [
    "# --- Run inferences and compute posterior distributions --- #\n",
    "with model3:\n",
    "    trace_model3 = pm.sample(cores=4, nuts ={'target_accept':0.90})\n",
    "    #Predictions\n",
    "    posterior_model3 = pm.sample_posterior_predictive(trace_model3)"
   ]
  },
  {
   "cell_type": "markdown",
   "metadata": {},
   "source": [
    "### Comparison of posterior densities of betas parameters given by two different priors"
   ]
  },
  {
   "cell_type": "code",
   "execution_count": 10,
   "metadata": {},
   "outputs": [],
   "source": [
    "beta_bdnf_model1 = np.mean(np.squeeze(trace_model1[\"beta_bdnf\"]), axis=1)\n",
    "beta_syn_model1 = np.mean(np.squeeze(trace_model1[\"beta_syn\"]), axis=1)\n",
    "beta_nnf_model1 = np.mean(np.squeeze(trace_model1[\"beta_nnf\"]), axis=1)\n",
    "\n",
    "beta_bdnf_model2 = np.mean(np.squeeze(trace_model2[\"beta_bdnf\"]), axis=1)\n",
    "beta_syn_model2 = np.mean(np.squeeze(trace_model2[\"beta_syn\"]), axis=1)\n",
    "beta_nnf_model2 = np.mean(np.squeeze(trace_model2[\"beta_nnf\"]), axis=1)\n",
    "\n",
    "beta_bdnf_model3 = np.mean(np.squeeze(trace_model3[\"beta_bdnf\"]), axis=1)\n",
    "beta_syn_model3 = np.mean(np.squeeze(trace_model3[\"beta_syn\"]), axis=1)\n",
    "beta_nnf_model3 = np.mean(np.squeeze(trace_model3[\"beta_nnf\"]), axis=1)"
   ]
  },
  {
   "cell_type": "code",
   "execution_count": 11,
   "metadata": {},
   "outputs": [
    {
     "data": {
      "image/png": "[encoded data removed]",
      "text/plain": [
       "<Figure size 1008x360 with 3 Axes>"
      ]
     },
     "metadata": {
      "image/png": {
       "height": 319,
       "width": 822
      },
      "needs_background": "light"
     },
     "output_type": "display_data"
    }
   ],
   "source": [
    "fig, ax = plt.subplots(ncols=3, sharex=True, sharey=True, figsize=(14, 5))\n",
    "\n",
    "handles = [mpatches.Patch(facecolor=plt.cm.Blues(110), label=\"Prior 1\"),\n",
    "           mpatches.Patch(facecolor=plt.cm.Reds(100), label=\"Prior 2\"),\n",
    "           mpatches.Patch(facecolor=plt.cm.Greens(100), label=\"Prior 3\")]\n",
    "\n",
    "sns.kdeplot(beta_bdnf_model1, bw = 0.5 , fill = True, ax = ax[0])\n",
    "sns.kdeplot(beta_bdnf_model2, bw = 0.5 , fill = True, ax = ax[0])\n",
    "sns.kdeplot(beta_bdnf_model3, bw = 0.5 , fill = True, ax = ax[0])\n",
    "ax[0].set_title(r'$β_{BDNF}$', fontsize=12)\n",
    "ax[0].legend(handles=handles)\n",
    "\n",
    "sns.kdeplot(beta_syn_model1, bw = 0.5 , fill = True, ax = ax[1])\n",
    "sns.kdeplot(beta_syn_model2, bw = 0.5 , fill = True, ax = ax[1])\n",
    "sns.kdeplot(beta_syn_model3, bw = 0.5 , fill = True, ax = ax[1])\n",
    "ax[1].set_title(r'$β_{SYN}$', fontsize=12)\n",
    "ax[1].legend(handles=handles)\n",
    "\n",
    "sns.kdeplot(beta_nnf_model1, bw = 0.5 , fill = True, ax = ax[2])\n",
    "sns.kdeplot(beta_nnf_model2, bw = 0.5 , fill = True, ax = ax[2])\n",
    "sns.kdeplot(beta_nnf_model3, bw = 0.5 , fill = True, ax = ax[2])\n",
    "ax[2].set_title(r'$β_{NNF}$', fontsize=12)\n",
    "ax[2].legend(handles=handles);"
   ]
  },
  {
   "cell_type": "markdown",
   "metadata": {},
   "source": [
    "### Comparison posteriors predictions for each Y_obs, which represents the key events"
   ]
  },
  {
   "cell_type": "code",
   "execution_count": 12,
   "metadata": {},
   "outputs": [],
   "source": [
    "df_bdnf_model1 = np.squeeze(posterior_model1['y_obs_bdnf']).mean(axis=1)\n",
    "df_syn_model1 = np.squeeze(posterior_model1['y_obs_syn']).mean(axis=1)\n",
    "df_nnf_model1 = np.squeeze(posterior_model1['y_obs_nnf']).mean(axis=1)\n",
    "df_dnt_model1 = np.squeeze(posterior_model1['y_obs_dnt']).mean(axis=1)\n",
    "\n",
    "df_bdnf_model2 = np.squeeze(posterior_model2['y_obs_bdnf']).mean(axis=1)\n",
    "df_syn_model2 = np.squeeze(posterior_model2['y_obs_syn']).mean(axis=1)\n",
    "df_nnf_model2 = np.squeeze(posterior_model2['y_obs_nnf']).mean(axis=1)\n",
    "df_dnt_model2 = np.squeeze(posterior_model2['y_obs_dnt']).mean(axis=1)\n",
    "\n",
    "df_bdnf_model3 = np.squeeze(posterior_model3['y_obs_bdnf']).mean(axis=1)\n",
    "df_syn_model3 = np.squeeze(posterior_model3['y_obs_syn']).mean(axis=1)\n",
    "df_nnf_model3 = np.squeeze(posterior_model3['y_obs_nnf']).mean(axis=1)\n",
    "df_dnt_model3 = np.squeeze(posterior_model3['y_obs_dnt']).mean(axis=1)"
   ]
  },
  {
   "cell_type": "code",
   "execution_count": 13,
   "metadata": {},
   "outputs": [],
   "source": [
    "d_model1 = {'BDNF': df_bdnf_model1, \n",
    "      'SYN': df_syn_model1,\n",
    "      'NNF': df_nnf_model1,\n",
    "      'DNT': df_dnt_model1}\n",
    "df_model1 = pd.DataFrame(d_model1)\n",
    "\n",
    "d_model2 = {'BDNF': df_bdnf_model2, \n",
    "      'SYN': df_syn_model2,\n",
    "      'NNF': df_nnf_model2,\n",
    "      'DNT': df_dnt_model2}\n",
    "df_model2 = pd.DataFrame(d_model2)\n",
    "\n",
    "d_model3 = {'BDNF': df_bdnf_model3, \n",
    "      'SYN': df_syn_model3,\n",
    "      'NNF': df_nnf_model3,\n",
    "      'DNT': df_dnt_model3}\n",
    "df_model3 = pd.DataFrame(d_model3)"
   ]
  },
  {
   "cell_type": "code",
   "execution_count": 14,
   "metadata": {},
   "outputs": [
    {
     "data": {
      "image/png": "[encoded data removed]",
      "text/plain": [
       "<Figure size 1008x360 with 1 Axes>"
      ]
     },
     "metadata": {
      "image/png": {
       "height": 303,
       "width": 831
      },
      "needs_background": "light"
     },
     "output_type": "display_data"
    }
   ],
   "source": [
    "fig, ax = plt.subplots(figsize=(14, 5))\n",
    "\n",
    "sns.boxplot(data = df_model1, ax = ax, fliersize=0.1, color='skyblue')\n",
    "sns.boxplot(data = df_model2, ax = ax, fliersize=0.5, color='steelblue')\n",
    "sns.boxplot(data = df_model3, ax = ax, fliersize=1, color='lightblue')\n",
    "\n",
    "ax.set_ylim([0, 1.01])\n",
    "ax.set_ylabel(\"Predicted posterior probability\");\n",
    "\n",
    "handles = [mpatches.Patch(color='skyblue', label=\"Model 1\"),\n",
    "           mpatches.Patch(color='steelblue', label=\"Model 2\"),\n",
    "           mpatches.Patch(color='lightblue', label=\"Model 3\")]\n",
    "ax.legend(handles=handles, loc=4);"
   ]
  },
  {
   "cell_type": "code",
   "execution_count": null,
   "metadata": {},
   "outputs": [],
   "source": []
  }
 ],
 "metadata": {
  "kernelspec": {
   "display_name": "pymc3",
   "language": "python",
   "name": "pymc3"
  },
  "language_info": {
   "codemirror_mode": {
    "name": "ipython",
    "version": 3
   },
   "file_extension": ".py",
   "mimetype": "text/x-python",
   "name": "python",
   "nbconvert_exporter": "python",
   "pygments_lexer": "ipython3",
   "version": "3.8.5"
  }
 },
 "nbformat": 4,
 "nbformat_minor": 4
}
